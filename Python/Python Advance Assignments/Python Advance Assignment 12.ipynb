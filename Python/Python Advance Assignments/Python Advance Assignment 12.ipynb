{
 "cells": [
  {
   "cell_type": "markdown",
   "id": "cb2ca842",
   "metadata": {},
   "source": [
    "#### Q1. Does assigning a value to a string's indexed character violate Python's string immutability?\n",
    "**Ans.**"
   ]
  },
  {
   "cell_type": "markdown",
   "id": "59c71a0a",
   "metadata": {},
   "source": [
    "#### Q2. Does using the += operator to concatenate strings violate Python's string immutability? Why or why not?\n",
    "**Ans.**"
   ]
  },
  {
   "cell_type": "markdown",
   "id": "f71fcf35",
   "metadata": {},
   "source": [
    "#### Q3. In Python, how many different ways are there to index a character?\n",
    "**Ans.**"
   ]
  },
  {
   "cell_type": "markdown",
   "id": "a53b420a",
   "metadata": {},
   "source": [
    "#### Q4. What is the relationship between indexing and slicing?\n",
    "**Ans.**"
   ]
  },
  {
   "cell_type": "markdown",
   "id": "79d25a1d",
   "metadata": {},
   "source": [
    "#### Q5. What is an indexed character's exact data type? What is the data form of a slicing-generated substring?\n",
    "**Ans.**"
   ]
  },
  {
   "cell_type": "markdown",
   "id": "1d624d16",
   "metadata": {},
   "source": [
    "#### Q6. What is the relationship between string and character \"types\" in Python?\n",
    "**Ans.**"
   ]
  },
  {
   "cell_type": "markdown",
   "id": "71b46f81",
   "metadata": {},
   "source": [
    "#### Q7. Identify at least two operators and one method that allow you to combine one or more smaller strings to create a larger string.\n",
    "**Ans.**"
   ]
  },
  {
   "cell_type": "markdown",
   "id": "fb57dbe3",
   "metadata": {},
   "source": [
    "#### Q8. What is the benefit of first checking the target string with in or not in before using the index method to find a substring?\n",
    "**Ans.**"
   ]
  },
  {
   "cell_type": "markdown",
   "id": "570fc946",
   "metadata": {},
   "source": [
    "#### Q9. Which operators and built-in string methods produce simple Boolean (true/false) results?\n",
    "**Ans.**"
   ]
  }
 ],
 "metadata": {
  "kernelspec": {
   "display_name": "Python 3 (ipykernel)",
   "language": "python",
   "name": "python3"
  },
  "language_info": {
   "codemirror_mode": {
    "name": "ipython",
    "version": 3
   },
   "file_extension": ".py",
   "mimetype": "text/x-python",
   "name": "python",
   "nbconvert_exporter": "python",
   "pygments_lexer": "ipython3",
   "version": "3.9.7"
  }
 },
 "nbformat": 4,
 "nbformat_minor": 5
}
