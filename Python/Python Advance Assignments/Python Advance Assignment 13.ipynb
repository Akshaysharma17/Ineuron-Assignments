{
 "cells": [
  {
   "cell_type": "markdown",
   "id": "7935e9c1",
   "metadata": {},
   "source": [
    "#### Q1. Can you create a programme or function that employs both positive and negative indexing? Is there any repercussion if you do so?\n",
    "**Ans.**"
   ]
  },
  {
   "cell_type": "markdown",
   "id": "c62c8392",
   "metadata": {},
   "source": [
    "#### Q2. What is the most effective way of starting with 1,000 elements in a Python list? Assume that all elements should be set to the same value.\n",
    "**Ans.**"
   ]
  },
  {
   "cell_type": "markdown",
   "id": "eee30e16",
   "metadata": {},
   "source": [
    "#### Q3. How do you slice a list to get any other part while missing the rest? (For example, suppose you want to make a new list with the elements first, third, fifth, seventh, and so on.)\n",
    "**Ans.**"
   ]
  },
  {
   "cell_type": "markdown",
   "id": "3ddf7b52",
   "metadata": {},
   "source": [
    "#### Q4. Explain the distinctions between indexing and slicing.\n",
    "**Ans.**"
   ]
  },
  {
   "cell_type": "markdown",
   "id": "3cf34ad0",
   "metadata": {},
   "source": [
    "#### Q5. What happens if one of the slicing expression's indexes is out of range?\n",
    "**Ans.**"
   ]
  },
  {
   "cell_type": "markdown",
   "id": "d55f04eb",
   "metadata": {},
   "source": [
    "#### Q6. If you pass a list to a function, and if you want the function to be able to change the values of the list—so that the list is different after the function returns—what action should you avoid?\n",
    "**Ans.**"
   ]
  },
  {
   "cell_type": "markdown",
   "id": "83560fe8",
   "metadata": {},
   "source": [
    "#### Q7. What is the concept of an unbalanced matrix?\n",
    "**Ans.**"
   ]
  },
  {
   "cell_type": "markdown",
   "id": "b7e040f4",
   "metadata": {},
   "source": [
    "#### Q8. Why is it necessary to use either list comprehension or a loop to create arbitrarily large matrices?\n",
    "**Ans.**"
   ]
  }
 ],
 "metadata": {
  "kernelspec": {
   "display_name": "Python 3 (ipykernel)",
   "language": "python",
   "name": "python3"
  },
  "language_info": {
   "codemirror_mode": {
    "name": "ipython",
    "version": 3
   },
   "file_extension": ".py",
   "mimetype": "text/x-python",
   "name": "python",
   "nbconvert_exporter": "python",
   "pygments_lexer": "ipython3",
   "version": "3.9.7"
  }
 },
 "nbformat": 4,
 "nbformat_minor": 5
}
