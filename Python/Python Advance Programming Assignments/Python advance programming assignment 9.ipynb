{
 "cells": [
  {
   "cell_type": "markdown",
   "id": "3a7cd60e",
   "metadata": {},
   "source": [
    "1. YouTube offers different playback speed options for users. This allows users to increase or decrease the speed of the video content. Given the actual duration and playback speed of the video, calculate the playback duration of the video.\n",
    "\n",
    "Examples\n",
    "\n",
    "playback_duration(\"00:30:00\", 2) ➞ \"00:15:00\"\n",
    "\n",
    "playback_duration(\"01:20:00\", 1.5) ➞ \"00:53:20\"\n",
    "\n",
    "playback_duration(\"51:20:09\", 0.5) ➞ \"102:40:18\""
   ]
  },
  {
   "cell_type": "code",
   "execution_count": 25,
   "id": "f3ad6c50",
   "metadata": {},
   "outputs": [
    {
     "name": "stdout",
     "output_type": "stream",
     "text": [
      "0:15:00\n",
      "0:53:20\n",
      "102:40:18\n"
     ]
    }
   ],
   "source": [
    "def playback_duration(st,n):\n",
    "    h,m,s=st.split(\":\")\n",
    "    s=int(s)+int(h)*3600\n",
    "    s=s+int(m)*60\n",
    "    s=s/n\n",
    "    m, s = divmod(s, 60)\n",
    "    h, m = divmod(m, 60)\n",
    "    print('{:d}:{:02d}:{:02d}'.format(int(h), int(m),int(s)))\n",
    "playback_duration(\"00:30:00\", 2)\n",
    "playback_duration(\"01:20:00\", 1.5)\n",
    "playback_duration(\"51:20:09\", 0.5)"
   ]
  },
  {
   "cell_type": "markdown",
   "id": "ad4dc1e2",
   "metadata": {},
   "source": [
    "2. We needs your help to construct a building which will be a pile of n cubes. The cube at the bottom will have a volume of n^3, the cube above will have volume of (n-1)^3 and so on until the top which will have a volume of 1^3.\n",
    "\n",
    "Given the total volume m of the building, can you find the number of cubes n required for the building?\n",
    "\n",
    "In other words, you have to return an integer n such that:\n",
    "\n",
    "n^3 + (n-1)^3 + ... + 1^3 == m\n",
    "\n",
    "Return None if there is no such number.\n",
    "\n",
    "Examples\n",
    "\n",
    "pile_of_cubes(1071225) ➞ 45\n",
    "\n",
    "pile_of_cubes(4183059834009) ➞ 2022\n",
    "\n",
    "pile_of_cubes(16) ➞ None"
   ]
  },
  {
   "cell_type": "code",
   "execution_count": 6,
   "id": "69f53fe0",
   "metadata": {},
   "outputs": [
    {
     "name": "stdout",
     "output_type": "stream",
     "text": [
      "45\n",
      "2022\n",
      "None\n"
     ]
    }
   ],
   "source": [
    "def pile_of_cubes(n):    \n",
    "    t=1\n",
    "    v=0\n",
    "    while v<=n:\n",
    "        v=t**3+v\n",
    "        t=t+1\n",
    "        if v==n:\n",
    "            print(t-1)\n",
    "            break\n",
    "        elif v>n:\n",
    "            print(None)\n",
    "            break\n",
    "pile_of_cubes(1071225)\n",
    "pile_of_cubes(4183059834009)\n",
    "pile_of_cubes(16)"
   ]
  },
  {
   "cell_type": "markdown",
   "id": "dee2374a",
   "metadata": {},
   "source": [
    "3. A fulcrum of a list is an integer such that all elements to the left of it and all elements to the right of it sum to the same value. Write a function that finds the fulcrum of a list.\n",
    "\n",
    "To illustrate:\n",
    "\n",
    "find_fulcrum([3, 1, 5, 2, 4, 6, -1]) ➞ 2\n",
    "// Since [3, 1, 5] and [4, 6, -1] both sum to 9\n",
    "\n",
    "Examples\n",
    "\n",
    "find_fulcrum([1, 2, 4, 9, 10, -10, -9, 3]) ➞ 4\n",
    "\n",
    "find_fulcrum([9, 1, 9]) ➞ 1\n",
    "\n",
    "find_fulcrum([7, -1, 0, -1, 1, 1, 2, 3]) ➞ 0\n",
    "\n",
    "find_fulcrum([8, 8, 8, 8]) ➞ -1"
   ]
  },
  {
   "cell_type": "code",
   "execution_count": 29,
   "id": "e30df779",
   "metadata": {},
   "outputs": [
    {
     "name": "stdout",
     "output_type": "stream",
     "text": [
      "2\n",
      "4\n",
      "1\n",
      "0\n",
      "-1\n"
     ]
    }
   ],
   "source": [
    "def find_fulcrum(arr) :\n",
    "    size=len(arr)\n",
    "    right_sum, left_sum = 0, 0\n",
    "    for i in range(1, size) :\n",
    "        right_sum += arr[i]\n",
    "    i, j = 0, 1\n",
    "    while j < size :\n",
    "        right_sum -= arr[j]\n",
    "        left_sum += arr[i]\n",
    " \n",
    "        if left_sum == right_sum :\n",
    "            return arr[j]\n",
    "        j += 1\n",
    "        i += 1\n",
    " \n",
    "    return -1\n",
    "print(find_fulcrum([3, 1, 5, 2, 4, 6, -1]))\n",
    "print(find_fulcrum([1, 2, 4, 9, 10, -10, -9, 3]))\n",
    "print(find_fulcrum([9, 1, 9]))\n",
    "print(find_fulcrum([7, -1, 0, -1, 1, 1, 2, 3]))\n",
    "print(find_fulcrum([8, 8, 8, 8]))\n"
   ]
  },
  {
   "cell_type": "markdown",
   "id": "c046aafc",
   "metadata": {},
   "source": [
    "4. Given a list of integers representing the color of each sock, determine how many pairs of socks with matching colors there are. For example, there are 7 socks with colors [1, 2, 1, 2, 1, 3, 2]. There is one pair of color 1 and one of color 2. There are three odd socks left, one of each color. The number of pairs is 2.\n",
    "\n",
    "Create a function that returns an integer representing the number of matching pairs of socks that are available.\n",
    "\n",
    "Examples\n",
    "\n",
    "sock_merchant([10, 20, 20, 10, 10, 30, 50, 10, 20]) ➞ 3\n",
    "\n",
    "sock_merchant([50, 20, 30, 90, 30, 20, 50, 20, 90]) ➞ 4\n",
    "\n",
    "sock_merchant([]) ➞ 0"
   ]
  },
  {
   "cell_type": "code",
   "execution_count": 47,
   "id": "c8fceef9",
   "metadata": {},
   "outputs": [
    {
     "name": "stdout",
     "output_type": "stream",
     "text": [
      "3\n",
      "4\n",
      "0\n"
     ]
    }
   ],
   "source": [
    "from itertools import groupby\n",
    "def sock_merchant(c):\n",
    "    ans = 0\n",
    "    for val in [len(list(group)) for key, group in groupby(sorted(c))]:\n",
    "        ans = ans + int(val/2)\n",
    "    print (ans)\n",
    "sock_merchant([10, 20, 20, 10, 10, 30, 50, 10, 20])\n",
    "sock_merchant([50, 20, 30, 90, 30, 20, 50, 20, 90])\n",
    "sock_merchant([])"
   ]
  },
  {
   "cell_type": "markdown",
   "id": "e0c0e831",
   "metadata": {},
   "source": [
    "5. Create a function that takes a string containing integers as well as other characters and return the sum of the negative integers only.\n",
    "\n",
    "Examples\n",
    "\n",
    "negative_sum(\"-12 13%14&-11\") ➞ -23\n",
    "# -12 + -11 = -23\n",
    "\n",
    "negative_sum(\"22 13%14&-11-22 13 12\") ➞ -33\n",
    "# -11 + -22 = -33"
   ]
  },
  {
   "cell_type": "code",
   "execution_count": 62,
   "id": "8913372e",
   "metadata": {},
   "outputs": [
    {
     "name": "stdout",
     "output_type": "stream",
     "text": [
      "-23\n",
      "-33\n"
     ]
    }
   ],
   "source": [
    "def negative_sum(s):\n",
    "    n=len(s)\n",
    "    l=[]\n",
    "    temp=\"\"\n",
    "    for i in range(0,n):\n",
    "        if s[i]=='-':\n",
    "            for j in range(i+1,n):\n",
    "                if s[j].isdigit():\n",
    "                    temp=temp+s[j]\n",
    "                else:\n",
    "                    break\n",
    "            l.append(int('-'+temp))\n",
    "            temp=\"\"\n",
    "    print(sum(l))\n",
    "negative_sum(\"-12 13%14&-11\")\n",
    "negative_sum(\"22 13%14&-11-22 13 12\")"
   ]
  }
 ],
 "metadata": {
  "kernelspec": {
   "display_name": "Python 3 (ipykernel)",
   "language": "python",
   "name": "python3"
  },
  "language_info": {
   "codemirror_mode": {
    "name": "ipython",
    "version": 3
   },
   "file_extension": ".py",
   "mimetype": "text/x-python",
   "name": "python",
   "nbconvert_exporter": "python",
   "pygments_lexer": "ipython3",
   "version": "3.9.7"
  }
 },
 "nbformat": 4,
 "nbformat_minor": 5
}
