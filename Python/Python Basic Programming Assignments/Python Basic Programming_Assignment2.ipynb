{
 "cells": [
  {
   "cell_type": "markdown",
   "metadata": {},
   "source": [
    "1. Write a Python program to convert kilometers to miles?"
   ]
  },
  {
   "cell_type": "code",
   "execution_count": 11,
   "metadata": {},
   "outputs": [
    {
     "name": "stdout",
     "output_type": "stream",
     "text": [
      "Enter distance in kilometres10\n",
      "The distance in miles is  6.2\n"
     ]
    }
   ],
   "source": [
    "##Ans 1/-\n",
    "\n",
    "k=float(input(\"Enter distance in kilometres\"))\n",
    "## 1 kilometre = 0.62 miles approx\n",
    "\n",
    "m=0.62*k\n",
    "\n",
    "print(\"The distance in miles is \",m)"
   ]
  },
  {
   "cell_type": "markdown",
   "metadata": {},
   "source": [
    "2. Write a Python program to convert Celsius to Fahrenheit?"
   ]
  },
  {
   "cell_type": "code",
   "execution_count": 10,
   "metadata": {},
   "outputs": [
    {
     "name": "stdout",
     "output_type": "stream",
     "text": [
      "Enter temperature in Celsius40\n",
      "Temperature in Fahrenheit is  104.0\n"
     ]
    }
   ],
   "source": [
    "##Ans 2/-\n",
    "\n",
    "c=float(input('Enter temperature in Celsius'))\n",
    "\n",
    "## Formula for this is (0°C × 9/5) + 32 = 32°F\n",
    "\n",
    "f=(1.8*c)+32\n",
    "print('Temperature in Fahrenheit is ',f)"
   ]
  },
  {
   "cell_type": "markdown",
   "metadata": {},
   "source": [
    "3. Write a Python program to display calendar?"
   ]
  },
  {
   "cell_type": "code",
   "execution_count": 15,
   "metadata": {},
   "outputs": [
    {
     "name": "stdout",
     "output_type": "stream",
     "text": [
      "Enter the year in  (eg. 1994) :1995\n",
      "Enter the month in numbers(eg. 1) :9\n",
      "   September 1995\n",
      "Mo Tu We Th Fr Sa Su\n",
      "             1  2  3\n",
      " 4  5  6  7  8  9 10\n",
      "11 12 13 14 15 16 17\n",
      "18 19 20 21 22 23 24\n",
      "25 26 27 28 29 30\n",
      "\n"
     ]
    }
   ],
   "source": [
    "##Ans 3/-\n",
    "\n",
    "import calendar\n",
    "\n",
    "year= int(input('Enter the year in  (eg. 1994) :'))\n",
    "month=int(input('Enter the month in numbers(eg. 1) :'))\n",
    "\n",
    "mycal=calendar.month(year,month)\n",
    "\n",
    "print(mycal)"
   ]
  },
  {
   "cell_type": "markdown",
   "metadata": {},
   "source": [
    "4. Write a Python program to solve quadratic equation?"
   ]
  },
  {
   "cell_type": "code",
   "execution_count": 21,
   "metadata": {},
   "outputs": [
    {
     "name": "stdout",
     "output_type": "stream",
     "text": [
      "Enter the value of a : 5\n",
      "Enter the value of b : 3\n",
      "Enter the value of c : -14\n",
      "solution for quadratic eqution is (-2+0j) and (1.4+0j)\n"
     ]
    }
   ],
   "source": [
    "import cmath\n",
    "#General formula for quadratic equation\n",
    "# ax2 + bx + c = 0 \n",
    "\n",
    "a=int(input('Enter the value of a : '))\n",
    "b=int(input('Enter the value of b : '))\n",
    "c=int(input('Enter the value of c : '))\n",
    "\n",
    "d= (b**2)-(4*a*c)\n",
    "\n",
    "sol1=(-b-cmath.sqrt(d))/(2*a)\n",
    "sol2=(-b+cmath.sqrt(d))/(2*a)\n",
    "\n",
    "print(\"solution for quadratic eqution is {} and {}\".format(sol1,sol2))"
   ]
  },
  {
   "cell_type": "markdown",
   "metadata": {},
   "source": [
    "5. Write a Python program to swap two variables without temp variable?"
   ]
  },
  {
   "cell_type": "code",
   "execution_count": 22,
   "metadata": {},
   "outputs": [
    {
     "name": "stdout",
     "output_type": "stream",
     "text": [
      "50\n",
      "10\n"
     ]
    }
   ],
   "source": [
    "a=10\n",
    "b=50\n",
    "a,b=b,a\n",
    "print(a)\n",
    "print(b)"
   ]
  },
  {
   "cell_type": "code",
   "execution_count": null,
   "metadata": {},
   "outputs": [],
   "source": []
  }
 ],
 "metadata": {
  "kernelspec": {
   "display_name": "Python 3",
   "language": "python",
   "name": "python3"
  },
  "language_info": {
   "codemirror_mode": {
    "name": "ipython",
    "version": 3
   },
   "file_extension": ".py",
   "mimetype": "text/x-python",
   "name": "python",
   "nbconvert_exporter": "python",
   "pygments_lexer": "ipython3",
   "version": "3.8.5"
  }
 },
 "nbformat": 4,
 "nbformat_minor": 4
}
