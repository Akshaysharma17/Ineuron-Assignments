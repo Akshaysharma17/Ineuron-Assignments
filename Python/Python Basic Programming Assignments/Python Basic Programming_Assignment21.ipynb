{
 "cells": [
  {
   "cell_type": "markdown",
   "metadata": {},
   "source": [
    "Question1\n",
    "Write a function that takes a list and a number as arguments. Add the number to the end of\n",
    "the list, then remove the first element of the list. The function should then return the updated\n",
    "list.\n",
    "Examples\n",
    "next_in_line([5, 6, 7, 8, 9], 1) ➞ [6, 7, 8, 9, 1]\n",
    "next_in_line([7, 6, 3, 23, 17], 10) ➞ [6, 3, 23, 17, 10]\n",
    "next_in_line([1, 10, 20, 42 ], 6) ➞ [10, 20, 42, 6]\n",
    "next_in_line([], 6) ➞ \"No list has been selected\""
   ]
  },
  {
   "cell_type": "code",
   "execution_count": 19,
   "metadata": {},
   "outputs": [
    {
     "name": "stdout",
     "output_type": "stream",
     "text": [
      "Enter space separated values of list: 5 6 7 8 9\n",
      "Enter new value: 1\n",
      "[6, 7, 8, 9, 1]\n"
     ]
    }
   ],
   "source": [
    "def next_in_line(list,int):\n",
    "    list.remove(list[0])\n",
    "    l=len(list)\n",
    "    list.insert(l,int)\n",
    "    return list\n",
    "l=list(map(int,input(\"Enter space separated values of list: \").split()))\n",
    "i=int(input(\"Enter new value: \"))\n",
    "print(next_in_line(l, i))"
   ]
  },
  {
   "cell_type": "markdown",
   "metadata": {},
   "source": [
    "Question2\n",
    "Create the function that takes a list of dictionaries and returns the sum of people&#39;s budgets.\n",
    "Examples\n",
    "get_budgets([\n",
    "{ &quot;name&quot;: &quot;John&quot;, &quot;age&quot;: 21, &quot;budget&quot;: 23000 },\n",
    "{ &quot;name&quot;: &quot;Steve&quot;, &quot;age&quot;: 32, &quot;budget&quot;: 40000 },\n",
    "{ &quot;name&quot;: &quot;Martin&quot;, &quot;age&quot;: 16, &quot;budget&quot;: 2700 }\n",
    "]) ➞ 65700\n",
    "get_budgets([\n",
    "{ &quot;name&quot;: &quot;John&quot;, &quot;age&quot;: 21, &quot;budget&quot;: 29000 },\n",
    "{ &quot;name&quot;: &quot;Steve&quot;, &quot;age&quot;: 32, &quot;budget&quot;: 32000 },\n",
    "{ &quot;name&quot;: &quot;Martin&quot;, &quot;age&quot;: 16, &quot;budget&quot;: 1600 }\n",
    "]) ➞ 62600"
   ]
  },
  {
   "cell_type": "code",
   "execution_count": 60,
   "metadata": {
    "scrolled": true
   },
   "outputs": [
    {
     "name": "stdout",
     "output_type": "stream",
     "text": [
      "Enter space separated Name, age, Budget: John 21 23000\n",
      "Enter space separated Name, age, Budget: Steve 32 40000\n",
      "Enter space separated Name, age, Budget: Martin 16 2700\n",
      "Enter space separated Name, age, Budget: \n",
      "Total budget of people:  65700\n"
     ]
    }
   ],
   "source": [
    "def get_budgets(list):\n",
    "    temp=0\n",
    "    for i in range(len(list)):\n",
    "        temp=temp+list[i][\"budget\"]\n",
    "    return temp\n",
    "\n",
    "l=[]\n",
    "d={}\n",
    "x,y,z=input(\"Enter space separated Name, age, Budget: \").split()\n",
    "d[\"name\"]=x\n",
    "d[\"age\"]=int(y)\n",
    "d[\"budget\"]=int(z)\n",
    "l.append(d)\n",
    "while d.values != \"\": \n",
    "    d1={}\n",
    "    try:\n",
    "        x,y,z=input(\"Enter space separated Name, age, Budget: \").split()\n",
    "        d1[\"name\"]=x\n",
    "        d1[\"age\"]=int(y)\n",
    "        d1[\"budget\"]=int(z)\n",
    "    except ValueError:\n",
    "        break\n",
    "    d=d1.copy()\n",
    "    l.append(d)\n",
    "print(\"Total budget of people: \",get_budgets(l))"
   ]
  },
  {
   "cell_type": "markdown",
   "metadata": {},
   "source": [
    "Question3\n",
    "Create a function that takes a string and returns a string with its letters in alphabetical order.\n",
    "Examples\n",
    "alphabet_soup(&quot;hello&quot;) ➞ &quot;ehllo&quot;\n",
    "alphabet_soup(&quot;edabit&quot;) ➞ &quot;abdeit&quot;\n",
    "alphabet_soup(&quot;hacker&quot;) ➞ &quot;acehkr&quot;\n",
    "alphabet_soup(&quot;geek&quot;) ➞ &quot;eegk&quot;\n",
    "alphabet_soup(&quot;javascript&quot;) ➞ &quot;aacijprstv&quot;"
   ]
  },
  {
   "cell_type": "code",
   "execution_count": 64,
   "metadata": {},
   "outputs": [
    {
     "name": "stdout",
     "output_type": "stream",
     "text": [
      "Enter any string: javascript\n",
      "aacijprstv\n"
     ]
    }
   ],
   "source": [
    "def alphabet_soup(str):  \n",
    "    sort=\"\".join(sorted(str))\n",
    "    return sort\n",
    "s=input(\"Enter any string: \")\n",
    "print(alphabet_soup(s))"
   ]
  },
  {
   "cell_type": "markdown",
   "metadata": {},
   "source": [
    "Question4\n",
    "Suppose that you invest $10,000 for 10 years at an interest rate of 6% compounded monthly.\n",
    "What will be the value of your investment at the end of the 10 year period?\n",
    "Create a function that accepts the principal p, the term in years t, the interest rate r, and the\n",
    "number of compounding periods per year n. The function returns the value at the end of term\n",
    "rounded to the nearest cent.\n",
    "For the example above:\n",
    "compound_interest(10000, 10, 0.06, 12) ➞ 18193.97\n",
    "Note that the interest rate is given as a decimal and n=12 because with monthly compounding\n",
    "there are 12 periods per year. Compounding can also be done annually, quarterly, weekly, or\n",
    "daily.\n",
    "Examples\n",
    "compound_interest(100, 1, 0.05, 1) ➞ 105.0\n",
    "compound_interest(3500, 15, 0.1, 4) ➞ 15399.26\n",
    "compound_interest(100000, 20, 0.15, 365) ➞ 2007316.26"
   ]
  },
  {
   "cell_type": "code",
   "execution_count": 22,
   "metadata": {},
   "outputs": [
    {
     "name": "stdout",
     "output_type": "stream",
     "text": [
      "Enter principle amount: 100000\n",
      "Enter term in years: 20\n",
      "Enter interest rate: 0.15\n",
      "Enter number of compounding periods per year: 365\n",
      "2007316.26\n"
     ]
    }
   ],
   "source": [
    "def compound_interest(p,t,r,n):\n",
    "    b=p*((1+(r/n))**(n*t))\n",
    "    print(round(b,2))\n",
    "p=int(input(\"Enter principle amount: \"))\n",
    "t=int(input(\"Enter term in years: \"))\n",
    "r=float(input(\"Enter interest rate: \"))\n",
    "n=int(input(\"Enter number of compounding periods per year: \"))\n",
    "compound_interest(p,t,r,n)"
   ]
  },
  {
   "cell_type": "markdown",
   "metadata": {},
   "source": [
    "Question5\n",
    "Write a function that takes a list of elements and returns only the integers.\n",
    "Examples\n",
    "return_only_integer([9, 2, &quot;space&quot;, &quot;car&quot;, &quot;lion&quot;, 16]) ➞ [9, 2, 16]\n",
    "return_only_integer([&quot;hello&quot;, 81, &quot;basketball&quot;, 123, &quot;fox&quot;]) ➞ [81, 123]\n",
    "return_only_integer([10, &quot;121&quot;, 56, 20, &quot;car&quot;, 3, &quot;lion&quot;]) ➞ [10, 56, 20,\n",
    "3]\n",
    "return_only_integer([&quot;String&quot;, True, 3.3, 1]) ➞ [1]"
   ]
  },
  {
   "cell_type": "code",
   "execution_count": 7,
   "metadata": {},
   "outputs": [
    {
     "name": "stdout",
     "output_type": "stream",
     "text": [
      "Enter values of list separated by space: String True 3.3 1\n",
      "[1]\n"
     ]
    }
   ],
   "source": [
    "def return_only_integer(list):\n",
    "    i=0\n",
    "    list1=[]\n",
    "    while i<len(list):\n",
    "        if type(list[i])==int:\n",
    "            if list[i] not in list1:\n",
    "                list1.append(list[i])\n",
    "                i+=1\n",
    "            else:\n",
    "                i+=1        \n",
    "        else:\n",
    "            i+=1\n",
    "    return list1\n",
    "            \n",
    "n=input(\"Enter values of list separated by space: \")\n",
    "n=[int(n) if n.isdigit() else n for n in n.rstrip().split()]\n",
    "print(return_only_integer(n))"
   ]
  }
 ],
 "metadata": {
  "kernelspec": {
   "display_name": "Python 3",
   "language": "python",
   "name": "python3"
  },
  "language_info": {
   "codemirror_mode": {
    "name": "ipython",
    "version": 3
   },
   "file_extension": ".py",
   "mimetype": "text/x-python",
   "name": "python",
   "nbconvert_exporter": "python",
   "pygments_lexer": "ipython3",
   "version": "3.8.5"
  }
 },
 "nbformat": 4,
 "nbformat_minor": 4
}
