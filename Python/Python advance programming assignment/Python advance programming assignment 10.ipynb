{
 "cells": [
  {
   "cell_type": "markdown",
   "id": "e17cf1f3",
   "metadata": {},
   "source": [
    "1. Create a function that takes the width, height and character and returns a picture frame as a 2D list.\n",
    "\n",
    "Examples\n",
    "\n",
    "get_frame(4, 5, \"#\") ➞ [\n",
    "  [\"####\"],\n",
    "  [\"#  #\"],\n",
    "  [\"#  #\"],\n",
    "  [\"#  #\"],\n",
    "  [\"####\"]\n",
    "]\n",
    "#Frame is 4 characters wide and 5 characters tall.\n",
    "\n",
    "\n",
    "get_frame(10, 3, \"*\") ➞ [\n",
    "  [\"**********\"],\n",
    "  [\"*        *\"],\n",
    "  [\"**********\"]\n",
    "]\n",
    "#Frame is 10 characters and wide and 3 characters tall.\n",
    "\n",
    "\n",
    "get_frame(2, 5, \"0\") ➞ \"invalid\"\n",
    "#Frame's width is not more than 2."
   ]
  },
  {
   "cell_type": "code",
   "execution_count": 17,
   "id": "b0bc544c",
   "metadata": {},
   "outputs": [
    {
     "name": "stdout",
     "output_type": "stream",
     "text": [
      "\n",
      "\n",
      "####\n",
      "\n",
      "#  #\n",
      "\n",
      "#  #\n",
      "\n",
      "#  #\n",
      "\n",
      "####\n",
      "\n",
      "**********\n",
      "\n",
      "*        *\n",
      "\n",
      "**********\n",
      "invalid\n"
     ]
    }
   ],
   "source": [
    "def get_frame(n1,n2,s):\n",
    "    if n1>2:\n",
    "        for i in range(n2):\n",
    "            print(\"\\n\")\n",
    "            for j in range(n1):\n",
    "                if (i == 0):\n",
    "                    print(s,end=\"\")\n",
    "                elif (i == n2-1):\n",
    "                    print(s,end=\"\")\n",
    "                elif (j == 0):\n",
    "                    print(s,end=\"\")\n",
    "                elif (j == n1-1):\n",
    "                    print (s,end=\"\")\n",
    "                else:\n",
    "                    print(\" \",end=\"\")\n",
    "                \n",
    "    else:\n",
    "        print(\"\\ninvalid\")\n",
    "get_frame(4, 5, \"#\")\n",
    "get_frame(10, 3, \"*\")\n",
    "get_frame(2, 5, \"0\")"
   ]
  },
  {
   "cell_type": "markdown",
   "id": "4026df3c",
   "metadata": {},
   "source": [
    "2. Write three functions:\n",
    "\n",
    "  1. boolean_and\n",
    "  2. boolean_or\n",
    "  3. boolean_xor\n",
    "These functions should evaluate a list of True and False values, starting from the leftmost element and evaluating pairwise.\n",
    "\n",
    "Examples\n",
    "\n",
    "boolean_and([True, True, False, True]) ➞ False\n",
    "#[True, True, False, True] => [True, False, True] => [False, True] => False\n",
    "\n",
    "boolean_or([True, True, False, False]) ➞ True\n",
    "#[True, True, False, True] => [True, False, False] => [True, False] => True\n",
    "\n",
    "boolean_xor([True, True, False, False]) ➞ False\n",
    "#[True, True, False, False] => [False, False, False] => [False, False] => False"
   ]
  },
  {
   "cell_type": "code",
   "execution_count": 38,
   "id": "8aa66536",
   "metadata": {},
   "outputs": [
    {
     "name": "stdout",
     "output_type": "stream",
     "text": [
      "False\n",
      "True\n",
      "False\n"
     ]
    }
   ],
   "source": [
    "def boolean_and(list):\n",
    "    r=bool()\n",
    "    for i in list:\n",
    "        r=i*bool(r)\n",
    "    print(bool(r))\n",
    "def boolean_or(list):\n",
    "    r1=bool()\n",
    "    for i in list:\n",
    "        r1=i+bool(r1)\n",
    "    print(bool(r1))\n",
    "def boolean_xor(list):\n",
    "    r1=bool()\n",
    "    for i in list:\n",
    "        r1=i+bool(r1)\n",
    "    print(not bool(r1))\n",
    "    \n",
    "boolean_and([True, True, False, True])\n",
    "boolean_or([True, True, False, False])\n",
    "boolean_xor([True, True, False, False])"
   ]
  },
  {
   "cell_type": "markdown",
   "id": "c4a6ce27",
   "metadata": {},
   "source": [
    "3. Create a function that creates a box based on dimension n.\n",
    "\n",
    "Examples\n",
    "\n",
    "make_box(5) ➞ [\n",
    "  \"#####\",\n",
    "  \"#   #\",\n",
    "  \"#   #\",\n",
    "  \"#   #\",\n",
    "  \"#####\"\n",
    "]\n",
    "\n",
    "make_box(3) ➞ [\n",
    "  \"###\",\n",
    "  \"# #\",\n",
    "  \"###\"\n",
    "]\n",
    "\n",
    "make_box(2) ➞ [\n",
    "  \"##\",\n",
    "  \"##\"\n",
    "]\n",
    "\n",
    "make_box(1) ➞ [\n",
    "  \"#\"\n",
    "]\n",
    "\n"
   ]
  },
  {
   "cell_type": "code",
   "execution_count": 42,
   "id": "b9bece86",
   "metadata": {},
   "outputs": [
    {
     "name": "stdout",
     "output_type": "stream",
     "text": [
      "\n",
      "\n",
      "#####\n",
      "\n",
      "#   #\n",
      "\n",
      "#   #\n",
      "\n",
      "#   #\n",
      "\n",
      "#####\n",
      "\n",
      "###\n",
      "\n",
      "# #\n",
      "\n",
      "###\n",
      "\n",
      "##\n",
      "\n",
      "##\n",
      "\n",
      "#"
     ]
    }
   ],
   "source": [
    "def make_box(n1,s=\"#\"):\n",
    "    for i in range(n1):\n",
    "        print(\"\\n\")\n",
    "        for j in range(n1):\n",
    "            if (i == 0):\n",
    "                print(s,end=\"\")\n",
    "            elif (i == n1-1):\n",
    "                print(s,end=\"\")\n",
    "            elif (j == 0):\n",
    "                print(s,end=\"\")\n",
    "            elif (j == n1-1):\n",
    "                print (s,end=\"\")\n",
    "            else:\n",
    "                print(\" \",end=\"\")\n",
    "make_box(5)\n",
    "\n",
    "make_box(3)\n",
    "\n",
    "make_box(2)\n",
    "\n",
    "make_box(1)"
   ]
  },
  {
   "cell_type": "markdown",
   "id": "d77e00b8",
   "metadata": {},
   "source": [
    "4. Given a common phrase, return False if any individual word in the phrase contains duplicate letters. Return True otherwise.\n",
    "\n",
    "Examples\n",
    "\n",
    "no_duplicate_letters(\"Fortune favours the bold.\") ➞ True\n",
    "\n",
    "no_duplicate_letters(\"You can lead a horse to water, but you can't make him drink.\") ➞ True\n",
    "\n",
    "no_duplicate_letters(\"Look before you leap.\") ➞ False\n",
    "#Duplicate letters in \"Look\" and \"before\".\n",
    "\n",
    "no_duplicate_letters(\"An apple a day keeps the doctor away.\") ➞ False\n",
    "#Duplicate letters in \"apple\", \"keeps\", \"doctor\", and \"away\"."
   ]
  },
  {
   "cell_type": "code",
   "execution_count": 59,
   "id": "292b9e50",
   "metadata": {},
   "outputs": [
    {
     "name": "stdout",
     "output_type": "stream",
     "text": [
      "True\n",
      "True\n",
      "False\n",
      "False\n"
     ]
    }
   ],
   "source": [
    "from itertools import groupby\n",
    "def no_duplicate_letters(s):\n",
    "    a=s.split()\n",
    "    result=0\n",
    "    for i in a:\n",
    "        for key,group in groupby(sorted(i)):\n",
    "            if len(list(group))>1:\n",
    "                return False\n",
    "    return True\n",
    "print(no_duplicate_letters(\"Fortune favours the bold.\"))\n",
    "print(no_duplicate_letters(\"You can lead a horse to water, but you can't make him drink.\"))\n",
    "print(no_duplicate_letters(\"Look before you leap.\"))\n",
    "print(no_duplicate_letters(\"An apple a day keeps the doctor away.\"))"
   ]
  },
  {
   "cell_type": "markdown",
   "id": "0c01a385",
   "metadata": {},
   "source": [
    "5. Write a regular expression that will match the states that voted yes to President Trump's impeachment. You must use RegEx positive lookahead.\n",
    "\n",
    "Example\n",
    "\n",
    "txt = \"Texas = no, California = yes, Florida = yes, Michigan = no\"\n",
    "pattern = \"yourregularexpressionhere\"\n",
    "\n",
    "re.findall(pattern, txt) ➞ [\"California\", \"Florida\"]"
   ]
  },
  {
   "cell_type": "code",
   "execution_count": 4,
   "id": "63caeb71",
   "metadata": {},
   "outputs": [
    {
     "data": {
      "text/plain": [
       "['California', 'Florida']"
      ]
     },
     "execution_count": 4,
     "metadata": {},
     "output_type": "execute_result"
    }
   ],
   "source": [
    "import regex as re\n",
    "txt = \"Texas = no, California = yes, Florida = yes, Michigan = no\"\n",
    "pattern = r\"\\w+(?=\\s=\\syes)\"\n",
    "re.findall(pattern, txt)"
   ]
  }
 ],
 "metadata": {
  "kernelspec": {
   "display_name": "Python 3 (ipykernel)",
   "language": "python",
   "name": "python3"
  },
  "language_info": {
   "codemirror_mode": {
    "name": "ipython",
    "version": 3
   },
   "file_extension": ".py",
   "mimetype": "text/x-python",
   "name": "python",
   "nbconvert_exporter": "python",
   "pygments_lexer": "ipython3",
   "version": "3.9.7"
  }
 },
 "nbformat": 4,
 "nbformat_minor": 5
}
