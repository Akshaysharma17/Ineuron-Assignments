{
 "cells": [
  {
   "cell_type": "markdown",
   "metadata": {},
   "source": [
    "## Ques 1. In the below elements which of them are values or an expression? eg:- values can be integer or string and expressions will be mathematical operators.\n",
    "\n",
    "*  \n",
    "'hello'\n",
    "-87.8\n",
    "- \n",
    "/ \n",
    "+\n",
    "6 \n",
    "\n",
    "\n",
    "## Ans.\n",
    "\n",
    "*           Expression\n",
    "'hello'     Value\n",
    "-87.8       Value\n",
    "-           Expression\n",
    "/           Expression          \n",
    "+           Expression\n",
    "6           Value"
   ]
  },
  {
   "cell_type": "markdown",
   "metadata": {},
   "source": [
    "## Ques 2. What is the difference between string and variable?\n",
    "\n",
    "## Ans.\n",
    "\n",
    "Variable is a store of information which is used to store any information.\n",
    "String is a data type of information one can store in a variable. It is basically a sequence of characters\n"
   ]
  },
  {
   "cell_type": "markdown",
   "metadata": {},
   "source": [
    "## Ques 3. Describe three different data types.\n",
    "\n",
    "## Ans.\n",
    "\n",
    "Integer: Integer are those kind of data types in which we store numbers into it. Eg: 100, 150, 1\n",
    "\n",
    "String: String data type is a sequence of character. Eg \"Akshay\" \"This is my country india\" \n",
    "\n",
    "Float: Float is a numeric data types which contains decimal or fractions. "
   ]
  },
  {
   "cell_type": "markdown",
   "metadata": {},
   "source": [
    "## Ques 4. What is an expression made up of? What do all expressions do?\n",
    "\n",
    "## Ans.\n",
    "\n",
    "Expression is a combination of one or more constants, variables, functions, and operators that the programming language interprets. \n",
    "\n",
    "Expressions are used to compute and to assign values to variables and to help control the execution flow of a program. The job of an expression is to perform the computation indicated by the elements of the expression and also to return a value that is the result of the computation.\n",
    "\n"
   ]
  },
  {
   "cell_type": "markdown",
   "metadata": {},
   "source": [
    "## Ques 5. This assignment statements, like spam = 10. What is the difference between an expression and a statement?\n",
    "\n",
    "## Ans\n",
    "Expression \n",
    "Expression returns a value.\n",
    "Expressions can print value.\n",
    "Eg: Functions\n",
    "\n",
    "Statement\n",
    "Statement never returns a value.\n",
    "Statment can never print a value.\n",
    "Eg: conditional statements, assingment statements, loops, classes etc "
   ]
  },
  {
   "cell_type": "markdown",
   "metadata": {},
   "source": [
    "## Ques 6. After running the following code, what does the variable bacon contain?\n",
    "bacon = 22\n",
    "bacon + 1\n",
    "\n",
    "## Ans\n",
    "\n",
    "22\n"
   ]
  },
  {
   "cell_type": "markdown",
   "metadata": {},
   "source": [
    "## Ques 7. What should the values of the following two terms be?\n",
    "'spam' + 'spamspam'\n",
    "'spam' * 3\n",
    "\n",
    "## Ans\n",
    "spamspamspam\n",
    "spamspamspam"
   ]
  },
  {
   "cell_type": "markdown",
   "metadata": {},
   "source": [
    "## Ques 8. Why is eggs a valid variable name while 100 is invalid?\n",
    "\n",
    "## Ans\n",
    "\n",
    "Eggs is a valid variable name while 100 is invalid because in python or any other programming language a variable name can start with a character but can never be started as a interger or a number. "
   ]
  },
  {
   "cell_type": "markdown",
   "metadata": {},
   "source": [
    "## Ques 9. What three functions can be used to get the integer, floating-point number, or string version of a value?\n",
    "\n",
    "## Ans\n",
    "\n",
    "For integer value - int()\n",
    "For floating-point numbers - float()\n",
    "For String version value - str()"
   ]
  },
  {
   "cell_type": "markdown",
   "metadata": {},
   "source": [
    "## Ques 10. Why does this expression cause an error? How can you fix it?\n",
    "'I have eaten ' + 99 + ' burritos.'\n",
    " \n",
    " ## Ans\n",
    " \n",
    " This expression will cause error because interger type data can't be added to string type data. And it can be fixed if we can convert integer data type to string datatype as follows\n",
    " \n",
    "'I have eaten ' + ' 99 ' + ' burritos.'"
   ]
  }
 ],
 "metadata": {
  "kernelspec": {
   "display_name": "Python 3",
   "language": "python",
   "name": "python3"
  },
  "language_info": {
   "codemirror_mode": {
    "name": "ipython",
    "version": 3
   },
   "file_extension": ".py",
   "mimetype": "text/x-python",
   "name": "python",
   "nbconvert_exporter": "python",
   "pygments_lexer": "ipython3",
   "version": "3.8.5"
  }
 },
 "nbformat": 4,
 "nbformat_minor": 4
}
