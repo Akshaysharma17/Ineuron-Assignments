{
 "cells": [
  {
   "cell_type": "markdown",
   "metadata": {},
   "source": [
    "#### 1. In what modes should the PdfFileReader() and PdfFileWriter() File objects will be opened?\n",
    "\n",
    "#### Ans.\n",
    "\n",
    "\n",
    "PdfFileReader() needs to be opened in read-binary mode by passing 'rb' as the second argument to open().\n",
    "PdfFileWriter() needs to be opened in write-binary mode with 'wb'."
   ]
  },
  {
   "cell_type": "markdown",
   "metadata": {},
   "source": [
    "#### 2. From a PdfFileReader object, how do you get a Page object for page 5?\n",
    "\n",
    "#### Ans.\n",
    "\n",
    "To extract text from a page 5, you need to get a Page object, which represents a single page of a PDF, from a PdfFileReader object. You can get a Page object by calling the getPage() method on a PdfFileReader object and passing it the page number of the page you’re interested in\n",
    "\n",
    ">>> import PyPDF2\n",
    ">>> pdfReader = PyPDF2.PdfFileReader(open('encrypted.pdf', 'rb'))\n",
    ">>> pdfReader.isEncrypted\n",
    "True\n",
    ">>> pdfReader.getPage(0)\n"
   ]
  },
  {
   "cell_type": "markdown",
   "metadata": {},
   "source": [
    "#### 3. What PdfFileReader variable stores the number of pages in the PDF document?\n",
    "\n",
    "#### Ans.\n",
    "\n",
    "The total number of pages in the PDF document is stored in the numPages attribute of a PdfFileReader object.\n"
   ]
  },
  {
   "cell_type": "markdown",
   "metadata": {},
   "source": [
    "#### 4. If a PdfFileReader object’s PDF is encrypted with the password swordfish, what must you do before you can obtain Page objects from it?\n",
    "\n",
    "#### Ans.\n",
    "If a PdfFileReader object’s PDF is encrypted with the password swordfish, then we need to access decrypt methode of PdfFileReader object with swordfish password as a variable to pass through the methode before we can obtain Page objects from it\n",
    "\n",
    "\n",
    "pdfReader = PyPDF2.PdfFileReader(open('encrypted.pdf', 'rb'))\n",
    "pdfReader.decrypt('swordfish')\n",
    "pageObj = pdfReader.getPage(0)"
   ]
  },
  {
   "cell_type": "markdown",
   "metadata": {},
   "source": [
    "#### 5. What methods do you use to rotate a page?\n",
    "\n",
    "#### Ans.\n",
    "\n",
    "There are two methodes which can be used to rotate a page in pdf.\n",
    "rotateClockwise(angle)\n",
    "rotateCounterClockwise(angle)\n"
   ]
  },
  {
   "cell_type": "markdown",
   "metadata": {},
   "source": [
    "#### 6. What is the difference between a Run object and a Paragraph object?\n",
    "\n",
    "#### Ans.\n",
    "\n",
    "A Run object is a contiguous run of text with the same style. A new Run object is needed whenever the text style changes.\n",
    "\n",
    "Whereas The Document object contains a list of Paragraph objects for the paragraphs in the document. (A new paragraph begins whenever the user presses ENTER or RETURN while typing in a Word document.) Each of these Paragraph objects contains a list of one or more Run objects."
   ]
  },
  {
   "cell_type": "markdown",
   "metadata": {},
   "source": [
    "#### 7. How do you obtain a list of Paragraph objects for a Document object that’s stored in a variable named doc?\n",
    "\n",
    "#### Ans.\n",
    "\n",
    "The Document object contains a list of Paragraph objects for the paragraphs in the document. and it obtained by following way\n",
    "\n",
    "import docx\n",
    "doc = docx.Document('demo.docx')\n",
    "doc.paragraphs[0].text"
   ]
  },
  {
   "cell_type": "markdown",
   "metadata": {},
   "source": [
    "#### 8. What type of object has bold, underline, italic, strike, and outline variables?\n",
    "\n",
    "#### Ans.\n",
    "\n",
    "bold: The text appears in bold.\n",
    "underline: The text is underlined.\n",
    "italic: The text appears in italic.\n",
    "strike: The text appears with strikethrough.\n",
    "outline: The text appears outlined rather than solid."
   ]
  },
  {
   "cell_type": "markdown",
   "metadata": {},
   "source": [
    "#### 9. What is the difference between False, True, and None for the bold variable?\n",
    "\n",
    "#### Ans.\n",
    "\n",
    "For bold variables\n",
    "True: the attribute is always enabled, no matter what other styles are applied to the run. \n",
    "False: the attribute is always disabled.\n",
    "None?: (defaults to whatever the run’s style is set to)."
   ]
  },
  {
   "cell_type": "markdown",
   "metadata": {},
   "source": [
    "#### 10. How do you create a Document object for a new Word document?\n",
    "\n",
    "#### Ans.\n",
    "\n",
    "doc = docx.Document('demo.docx')"
   ]
  },
  {
   "cell_type": "markdown",
   "metadata": {},
   "source": [
    "#### 11. How do you add a paragraph with the text 'Hello, there!' to a Document object stored in a variable named doc?\n",
    "\n",
    "#### Ans.\n",
    "\n",
    "import docx\n",
    "doc = docx.Document()\n",
    "doc.add_paragraph('Hello, there!')\n",
    "<docx.text.Paragraph object at 0x0000000003B56F60>\n",
    "doc.save('helloworld.docx')"
   ]
  },
  {
   "cell_type": "markdown",
   "metadata": {},
   "source": [
    "#### 12. What integers represent the levels of headings available in Word documents?\n",
    "\n",
    "#### Ans.\n",
    "\n",
    "The arguments to add_heading() are a string of the heading text and an integer from 0 to 4. The integer 0 makes the heading the Title style, which is used for the top of the document. Integers 1 to 4 are for various heading levels, with 1 being the main heading and 4 the lowest subheading."
   ]
  }
 ],
 "metadata": {
  "kernelspec": {
   "display_name": "Python 3",
   "language": "python",
   "name": "python3"
  },
  "language_info": {
   "codemirror_mode": {
    "name": "ipython",
    "version": 3
   },
   "file_extension": ".py",
   "mimetype": "text/x-python",
   "name": "python",
   "nbconvert_exporter": "python",
   "pygments_lexer": "ipython3",
   "version": "3.8.5"
  }
 },
 "nbformat": 4,
 "nbformat_minor": 4
}
