{
 "cells": [
  {
   "cell_type": "markdown",
   "metadata": {},
   "source": [
    "#### 1. What advantages do Excel spreadsheets have over CSV spreadsheets?\n",
    "\n",
    "#### Ans.\n",
    "\n",
    "Advantages of Excel spreadsheets over CSV spreadsheets are as follows:\n",
    "1. Excel can perform VBA Coding, functions, formulas and create summaries easily when compared to CSV.\n",
    "2. Reading large data set is much easier for the end-user to read, comprehend and understand when compared to CSV.\n",
    "3. Excel also provides the user option for external linking of data from other sources, and also, the user can do custom add-ins."
   ]
  },
  {
   "cell_type": "markdown",
   "metadata": {},
   "source": [
    "#### 2.What do you pass to csv.reader() and csv.writer() to create reader and writer objects?\n",
    "\n",
    "#### Ans.\n",
    " We pass opened csv file object to csv.reader() and csv.writer to perform read and write operations."
   ]
  },
  {
   "cell_type": "markdown",
   "metadata": {},
   "source": [
    "#### 3. What modes do File objects for reader and writer objects need to be opened in?\n",
    "\n",
    "#### Ans.\n",
    "\n",
    "File objects should opened in read mode 'r' for reader method and in write or append mode ('w' or 'a') for writer method."
   ]
  },
  {
   "cell_type": "markdown",
   "metadata": {},
   "source": [
    "#### 4. What method takes a list argument and writes it to a CSV file?\n",
    "\n",
    "#### Ans.\n",
    "\n",
    "Writer method (csv.writer()) of csv library takes a list argument and writes it to a CSV file."
   ]
  },
  {
   "cell_type": "markdown",
   "metadata": {},
   "source": [
    "#### 5. What do the keyword arguments delimiter and line terminator do?\n",
    "\n",
    "#### Ans.\n",
    "\n",
    "The delimiter is the character that appears between cells on a row. By default, the delimiter for a CSV file is a comma. The line terminator is the character that comes at the end of a row. By default, the line terminator is a newline."
   ]
  },
  {
   "cell_type": "markdown",
   "metadata": {},
   "source": [
    "#### 6. What function takes a string of JSON data and returns a Python data structure?\n",
    "\n",
    "#### Ans.\n",
    "\n",
    "We use the json.loads() method to parse a JSON string and return a Python object such as a dictionary. The json.loads() method takes the file contents as a string."
   ]
  },
  {
   "cell_type": "markdown",
   "metadata": {},
   "source": [
    "#### 7. What function takes a Python data structure and returns a string of JSON data?\n",
    "\n",
    "#### Ans.\n",
    "\n",
    "The json.dumps() can be used for converting a Python object into a JSON string.\n"
   ]
  }
 ],
 "metadata": {
  "kernelspec": {
   "display_name": "Python 3",
   "language": "python",
   "name": "python3"
  },
  "language_info": {
   "codemirror_mode": {
    "name": "ipython",
    "version": 3
   },
   "file_extension": ".py",
   "mimetype": "text/x-python",
   "name": "python",
   "nbconvert_exporter": "python",
   "pygments_lexer": "ipython3",
   "version": "3.8.5"
  }
 },
 "nbformat": 4,
 "nbformat_minor": 4
}
