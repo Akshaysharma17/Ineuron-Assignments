{
 "cells": [
  {
   "cell_type": "markdown",
   "metadata": {},
   "source": [
    "#### 1. What does RGBA stand for?\n",
    "\n",
    "#### Ans.\n",
    "\n",
    "RGBA stand for RGBA(Red-Green-Blue-Alpha). An RGBA value is a tuple of 4 integers, each ranging from 0 to 255. The four integers correspond to the amount of red, green, blue, and alpha (transparency) in the color."
   ]
  },
  {
   "cell_type": "markdown",
   "metadata": {},
   "source": [
    "#### 2. From the Pillow module, how do you get the RGBA value of any images?\n",
    "\n",
    "#### Ans.\n",
    "\n",
    "We can get the RGBA value of any image using convert methode of module while passing \"RGBA\" as an argument. For eg:\n",
    "\n",
    "from PIL import Image\n",
    "img = Image.open(r'C:\\Users\\aksha\\Desktop\\Screenshot.PNG')\n",
    "rgba = img.convert(\"RGBA\")\n",
    "datas = rgba.getdata()"
   ]
  },
  {
   "cell_type": "markdown",
   "metadata": {},
   "source": [
    "#### 3. What is a box tuple, and how does it work?\n",
    "\n",
    "#### Ans.\n",
    "\n",
    "A box tuple is a tuple value of four integers: the left edge x-coordinate, the top edge y-coordinate, the width, and the height, respectively. The box includes the left and top coordinates and goes up to but does not include the right and bottom coordinates."
   ]
  },
  {
   "cell_type": "markdown",
   "metadata": {},
   "source": [
    "#### 4. Use your image and load in notebook then, How can you find out the width and height of an Image object?\n",
    "\n",
    "#### Ans.\n",
    "imageObj.size is a tuple of two integers, the width and the height."
   ]
  },
  {
   "cell_type": "code",
   "execution_count": 12,
   "metadata": {},
   "outputs": [
    {
     "name": "stdout",
     "output_type": "stream",
     "text": [
      "Width:  1365\n",
      "Height:  658\n"
     ]
    }
   ],
   "source": [
    "from PIL import Image\n",
    "img = Image.open(r'C:\\Users\\aksha\\Desktop\\Screenshot.PNG')\n",
    "width,height=img.size\n",
    "print(\"Width: \",width)\n",
    "print(\"Height: \",height)"
   ]
  },
  {
   "cell_type": "markdown",
   "metadata": {},
   "source": [
    "#### 5. What method would you call to get Image object for a 100×100 image, excluding the lower-left quarter of it?\n",
    "\n",
    "#### Ans.\n",
    "\n",
    "imageObj.crop((0, 50, 50, 50))."
   ]
  },
  {
   "cell_type": "markdown",
   "metadata": {},
   "source": [
    "#### 6. After making changes to an Image object, how could you save it as an image file?\n",
    "\n",
    "#### Ans.\n",
    "\n",
    "Call the imageObj.save('new_filename.png') method of the Image object."
   ]
  },
  {
   "cell_type": "markdown",
   "metadata": {},
   "source": [
    "#### 7. What module contains Pillow’s shape-drawing code?\n",
    "\n",
    "#### Ans.\n",
    "\n",
    "The ImageDraw module contains code to draw on images."
   ]
  },
  {
   "cell_type": "markdown",
   "metadata": {},
   "source": [
    "#### 8. Image objects do not have drawing methods. What kind of object does? How do you get this kind of object?\n",
    "\n",
    "#### Ans.\n",
    "\n",
    "ImageDraw objects have shape-drawing methods such as point(), line(), or rectangle(). They are returned by passing the Image object to the ImageDraw.Draw() function."
   ]
  }
 ],
 "metadata": {
  "kernelspec": {
   "display_name": "Python 3",
   "language": "python",
   "name": "python3"
  },
  "language_info": {
   "codemirror_mode": {
    "name": "ipython",
    "version": 3
   },
   "file_extension": ".py",
   "mimetype": "text/x-python",
   "name": "python",
   "nbconvert_exporter": "python",
   "pygments_lexer": "ipython3",
   "version": "3.8.5"
  }
 },
 "nbformat": 4,
 "nbformat_minor": 4
}
