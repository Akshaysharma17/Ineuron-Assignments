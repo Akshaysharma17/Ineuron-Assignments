{
 "cells": [
  {
   "cell_type": "markdown",
   "metadata": {},
   "source": [
    "### 1.What are the two values of the Boolean data type? How do you write them?\n",
    "\n",
    "### Ans.\n",
    "\n",
    "There are two types of values in Boolean data type\n",
    "1 True\n",
    "2 False \n",
    "\n",
    "We should always make sure that the first letter of values should be in capital and rest of the word should be in small letters shown as below\n",
    "\n",
    "True\n",
    "False"
   ]
  },
  {
   "cell_type": "markdown",
   "metadata": {},
   "source": [
    "### 2. What are the three different types of Boolean operators?\n",
    "\n",
    "### Ans.\n",
    "\n",
    "There are three different types of Boolean operators\n",
    "1. The AND operator (and)\n",
    "2. The OR operator (or)\n",
    "3. The NOT operator (not)\n"
   ]
  },
  {
   "cell_type": "markdown",
   "metadata": {},
   "source": [
    "### 3. Make a list of each Boolean operator's truth tables (i.e. every possible combination of Boolean values for the operator and what it evaluate ).\n",
    "\n",
    "### Ans.\n",
    "\n",
    "A and B will input values and Q will be the output value where 0 as False and 1 as True\n",
    "\n",
    "AND operator\n",
    "\n",
    "A B C\n",
    "0 0 0\n",
    "0 1 0\n",
    "1 0 0\n",
    "1 1 1\n",
    "\n",
    "OR operator\n",
    "\n",
    "A B C\n",
    "0 0 0\n",
    "1 0 1\n",
    "0 1 1\n",
    "1 1 1\n",
    "\n",
    "NOT operator\n",
    "\n",
    "A Q\n",
    "1 0\n",
    "0 1"
   ]
  },
  {
   "cell_type": "markdown",
   "metadata": {},
   "source": [
    "### 4. What are the values of the following expressions?\n",
    "(5 > 4) and (3 == 5)\n",
    "not (5 > 4)\n",
    "(5 > 4) or (3 == 5)\n",
    "not ((5 > 4) or (3 == 5))\n",
    "(True and True) and (True == False)\n",
    "(not False) or (not True)\n",
    "\n",
    "### Ans.\n",
    "\n",
    "(5 > 4) and (3 == 5)                    False\n",
    "not (5 > 4)                             False\n",
    "(5 > 4) or (3 == 5)                     True\n",
    "not ((5 > 4) or (3 == 5))               False\n",
    "(True and True) and (True == False)     False\n",
    "(not False) or (not True)               True\n"
   ]
  },
  {
   "cell_type": "markdown",
   "metadata": {},
   "source": [
    "### 5. What are the six comparison operators?\n",
    "\n",
    "### Ans.\n",
    "\n",
    "1. Less Than (<)\n",
    "2. Greater Than (>)\n",
    "3. Less Than or Equal To (<=)\n",
    "4. Greater Than or Equal to (>=)\n",
    "5. Equal to (==)\n",
    "6. Not Equal to (!=)"
   ]
  },
  {
   "cell_type": "markdown",
   "metadata": {},
   "source": [
    "### 6. How do you tell the difference between the equal to and assignment operators?Describe a condition and when you would use one.\n",
    "\n",
    "### Ans.\n",
    "\n",
    "Equal to operators is represented by '==' and assignment operators is represented by '='.\n",
    "\n",
    "a= 10\n",
    "b= 10\n",
    "\n",
    "If (a==b):\n",
    "    print(\"Both the values are equal\")\n",
    "else:\n",
    "    print(\"Both the values are not equal\")\n",
    "\n",
    "Assignment operators can be used whenever we required to assign a value to variable.\n",
    "Equal to operators can be used whenever we required to compare two same data type values."
   ]
  },
  {
   "cell_type": "markdown",
   "metadata": {},
   "source": [
    "### 7. Identify the three blocks in this code:\n",
    "spam = 0\n",
    "if spam == 10:\n",
    "print('eggs')\n",
    "if spam > 5:\n",
    "print('bacon')\n",
    "else:\n",
    "print('ham')\n",
    "print('spam')\n",
    "print('spam')\n",
    "\n",
    "### Ans.\n",
    "\n",
    "First block\n",
    "\n",
    "if spam == 10:\n",
    "    print('eggs')\n",
    "\n",
    "\n",
    "\n",
    "Second block\n",
    "if spam > 5:\n",
    "    print('bacon')\n",
    "\n",
    "\n",
    "Third block\n",
    "else:\n",
    "    print('ham')\n",
    "    print('spam')\n",
    "    print('spam')\n"
   ]
  },
  {
   "cell_type": "markdown",
   "metadata": {},
   "source": [
    "### 8. Write code that prints Hello if 1 is stored in spam, prints Howdy if 2 is stored in spam, and prints Greetings! if anything else is stored in spam.\n",
    "\n",
    "### Ans\n",
    "\n",
    "spam=int(input(\"Enter any number\"))\n",
    "if spam==1:\n",
    "    print(\"Hello\")\n",
    "elif spam==2:\n",
    "    print(\"Howdy\")\n",
    "else:\n",
    "    print(\"Greetings!\")"
   ]
  },
  {
   "cell_type": "markdown",
   "metadata": {},
   "source": [
    "### 9.If your programme is stuck in an endless loop, what keys you’ll press?\n",
    "\n",
    "### Ans\n",
    "\n",
    "ctrl + Z\n",
    "\n",
    "or\n",
    "\n",
    "ctrl + C"
   ]
  },
  {
   "cell_type": "markdown",
   "metadata": {},
   "source": [
    "### 10. How can you tell the difference between break and continue?\n",
    "\n",
    "### Ans\n",
    "\n",
    "Break\n",
    "Break statement mainly used to terminate the enclosing loop such as while, do-while, for or switch statement wherever break is declared.\n",
    "Break statement resumes the control of the program to the end of loop and made executional flow outside that loop.\n",
    "\n",
    "Continue\n",
    "Continue statement mainly skip the rest of loop wherever continue is declared and execute the next iteration.\n",
    "Continue statement resumes the control of the program to the next iteration of that loop enclosing 'continue' and made executional flow inside the loop again"
   ]
  },
  {
   "cell_type": "markdown",
   "metadata": {},
   "source": [
    "### 11. In a for loop, what is the difference between range(10), range(0, 10), and range(0, 10, 1)?\n",
    "\n",
    "### Ans \n",
    "\n",
    "difference is in range(10) no initial value and steps is mentioned, there is only final value is mentioned till what number the values will iterate.\n",
    "\n",
    "In range(0,10) initial value and the final value is mentioned and no step size is mentioned\n",
    "\n",
    "In range(0,10,1) initial value, Final value and the steps size is already mentioned.\n",
    "\n"
   ]
  },
  {
   "cell_type": "markdown",
   "metadata": {},
   "source": [
    "### 12. Write a short program that prints the numbers 1 to 10 using a for loop. Then write an equivalent program that prints the numbers 1 to 10 using a while loop.\n",
    "\n",
    "for i in range(1,11):\n",
    "    print(i)\n",
    "    \n",
    "    \n",
    "i=1\n",
    "while i<=10:\n",
    "    print(i)\n",
    "    i+=1"
   ]
  },
  {
   "cell_type": "markdown",
   "metadata": {},
   "source": [
    "### 13. If you had a function named bacon() inside a module named spam, how would you call it after importing spam?\n",
    "\n",
    "spam.bacon()"
   ]
  }
 ],
 "metadata": {
  "kernelspec": {
   "display_name": "Python 3",
   "language": "python",
   "name": "python3"
  },
  "language_info": {
   "codemirror_mode": {
    "name": "ipython",
    "version": 3
   },
   "file_extension": ".py",
   "mimetype": "text/x-python",
   "name": "python",
   "nbconvert_exporter": "python",
   "pygments_lexer": "ipython3",
   "version": "3.8.5"
  }
 },
 "nbformat": 4,
 "nbformat_minor": 4
}
