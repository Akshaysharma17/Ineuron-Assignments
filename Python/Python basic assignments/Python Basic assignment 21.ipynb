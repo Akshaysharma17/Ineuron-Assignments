{
 "cells": [
  {
   "cell_type": "markdown",
   "metadata": {},
   "source": [
    "1. Add the current date to the text file today.txt as a string."
   ]
  },
  {
   "cell_type": "code",
   "execution_count": 4,
   "metadata": {},
   "outputs": [],
   "source": [
    "import datetime\n",
    "with open(\"today.txt\", mode='a') as file:\n",
    "    file.write('Current date %s.\\n' %datetime.datetime.now())"
   ]
  },
  {
   "cell_type": "markdown",
   "metadata": {},
   "source": [
    "2. Read the text file today.txt into the string today_string"
   ]
  },
  {
   "cell_type": "code",
   "execution_count": 10,
   "metadata": {},
   "outputs": [
    {
     "name": "stdout",
     "output_type": "stream",
     "text": [
      "Current date 2021-12-26 02:52:16.743989.\n",
      "\n"
     ]
    }
   ],
   "source": [
    "with open(\"today.txt\", mode='r') as file:\n",
    "    today_string=file.read()\n",
    "print(today_string)"
   ]
  },
  {
   "cell_type": "markdown",
   "metadata": {},
   "source": [
    "3. Parse the date from today_string."
   ]
  },
  {
   "cell_type": "code",
   "execution_count": 12,
   "metadata": {},
   "outputs": [
    {
     "data": {
      "text/plain": [
       "' 2021-12-26 02:52:16.743989'"
      ]
     },
     "execution_count": 12,
     "metadata": {},
     "output_type": "execute_result"
    }
   ],
   "source": [
    "today_string=today_string.replace(\"Current date\",\"\")\n",
    "today_string[0:-2]"
   ]
  },
  {
   "cell_type": "markdown",
   "metadata": {},
   "source": [
    "4. List the files in your current directory\n"
   ]
  },
  {
   "cell_type": "code",
   "execution_count": 15,
   "metadata": {},
   "outputs": [
    {
     "data": {
      "text/plain": [
       "['.ipynb_checkpoints',\n",
       " 'Python Basic assignment 1.ipynb',\n",
       " 'Python Basic assignment 10.ipynb',\n",
       " 'Python Basic assignment 11.ipynb',\n",
       " 'Python Basic assignment 12.ipynb',\n",
       " 'Python Basic assignment 13.ipynb',\n",
       " 'Python Basic assignment 14.ipynb',\n",
       " 'Python Basic assignment 15.ipynb',\n",
       " 'Python Basic assignment 16.ipynb',\n",
       " 'Python Basic assignment 17.ipynb',\n",
       " 'Python Basic assignment 18.ipynb',\n",
       " 'Python Basic assignment 19.ipynb',\n",
       " 'Python Basic assignment 2.ipynb',\n",
       " 'Python Basic assignment 20.ipynb',\n",
       " 'Python Basic assignment 3.ipynb',\n",
       " 'Python Basic assignment 4.ipynb',\n",
       " 'Python Basic assignment 5.ipynb',\n",
       " 'Python Basic assignment 6.ipynb',\n",
       " 'Python Basic assignment 7.ipynb',\n",
       " 'Python Basic assignment 8.ipynb',\n",
       " 'Python Basic assignment 9.ipynb',\n",
       " 'today.txt',\n",
       " 'Untitled.ipynb',\n",
       " 'Untitled1.ipynb']"
      ]
     },
     "execution_count": 15,
     "metadata": {},
     "output_type": "execute_result"
    }
   ],
   "source": [
    "import os\n",
    "os.listdir()"
   ]
  },
  {
   "cell_type": "markdown",
   "metadata": {},
   "source": [
    "5. Create a list of all of the files in your parent directory (minimum five files should be available).\n"
   ]
  },
  {
   "cell_type": "code",
   "execution_count": 16,
   "metadata": {},
   "outputs": [
    {
     "name": "stdout",
     "output_type": "stream",
     "text": [
      "['.ipynb_checkpoints', 'Python Basic assignment 1.ipynb', 'Python Basic assignment 10.ipynb', 'Python Basic assignment 11.ipynb', 'Python Basic assignment 12.ipynb', 'Python Basic assignment 13.ipynb', 'Python Basic assignment 14.ipynb', 'Python Basic assignment 15.ipynb', 'Python Basic assignment 16.ipynb', 'Python Basic assignment 17.ipynb', 'Python Basic assignment 18.ipynb', 'Python Basic assignment 19.ipynb', 'Python Basic assignment 2.ipynb', 'Python Basic assignment 20.ipynb', 'Python Basic assignment 3.ipynb', 'Python Basic assignment 4.ipynb', 'Python Basic assignment 5.ipynb', 'Python Basic assignment 6.ipynb', 'Python Basic assignment 7.ipynb', 'Python Basic assignment 8.ipynb', 'Python Basic assignment 9.ipynb', 'today.txt', 'Untitled.ipynb', 'Untitled1.ipynb']\n"
     ]
    }
   ],
   "source": [
    "import os\n",
    "list=os.listdir()\n",
    "print(list)"
   ]
  },
  {
   "cell_type": "markdown",
   "metadata": {},
   "source": [
    "6. Use multiprocessing to create three separate processes. Make each one wait a random number of seconds between one and five, print the current time, and then exit."
   ]
  },
  {
   "cell_type": "code",
   "execution_count": 26,
   "metadata": {},
   "outputs": [
    {
     "name": "stdout",
     "output_type": "stream",
     "text": [
      "Process 1 started...\n",
      "Process completed in 1 seconds. Time right now 13:46:08\n",
      "Process 2 started...\n",
      "Process completed in 4 seconds. Time right now 13:46:12\n",
      "Process 3 started...\n",
      "Process completed in 1 seconds. Time right now 13:46:13\n"
     ]
    }
   ],
   "source": [
    "import multiprocessing\n",
    "import random\n",
    "import time\n",
    "import datetime\n",
    "def worker(name):\n",
    "    print(f\"Process {name} started...\")\n",
    "    worker_time = random.choice(range(1, 6))\n",
    "    time.sleep(worker_time)\n",
    "    print(f'Process completed in {worker_time} seconds. Time right now {datetime.datetime.now().strftime(\"%H:%M:%S\")}')\n",
    "processes = []\n",
    "for i in range(3):\n",
    "    process = multiprocessing.Process(target=worker(i+1),args=(f'computer_{i+1}',))\n",
    "    processes.append(process)\n",
    "    process.start()\n",
    "for proc in processes:\n",
    "    proc.join()"
   ]
  },
  {
   "cell_type": "markdown",
   "metadata": {},
   "source": [
    "7. Create a date object of your day of birth."
   ]
  },
  {
   "cell_type": "code",
   "execution_count": 18,
   "metadata": {},
   "outputs": [],
   "source": [
    "import datetime\n",
    "x = datetime.datetime(1995,11,17)"
   ]
  },
  {
   "cell_type": "markdown",
   "metadata": {},
   "source": [
    "8. What day of the week was your day of birth?"
   ]
  },
  {
   "cell_type": "code",
   "execution_count": 21,
   "metadata": {},
   "outputs": [
    {
     "data": {
      "text/plain": [
       "'Fri'"
      ]
     },
     "execution_count": 21,
     "metadata": {},
     "output_type": "execute_result"
    }
   ],
   "source": [
    "l=[\"Mon\",\"Tue\",\"Wed\",\"Thu\",\"Fri\",\"Sat\",\"Sun\"]\n",
    "l[x.weekday()]"
   ]
  },
  {
   "cell_type": "markdown",
   "metadata": {},
   "source": [
    "9. When will you be (or when were you) 10,000 days old?"
   ]
  },
  {
   "cell_type": "code",
   "execution_count": 24,
   "metadata": {},
   "outputs": [
    {
     "name": "stdout",
     "output_type": "stream",
     "text": [
      "2023-04-04 00:00:00\n"
     ]
    }
   ],
   "source": [
    "import datetime\n",
    "newdate = x + datetime.timedelta(days=10000)\n",
    "print(newdate)"
   ]
  }
 ],
 "metadata": {
  "kernelspec": {
   "display_name": "Python 3",
   "language": "python",
   "name": "python3"
  },
  "language_info": {
   "codemirror_mode": {
    "name": "ipython",
    "version": 3
   },
   "file_extension": ".py",
   "mimetype": "text/x-python",
   "name": "python",
   "nbconvert_exporter": "python",
   "pygments_lexer": "ipython3",
   "version": "3.8.5"
  }
 },
 "nbformat": 4,
 "nbformat_minor": 4
}
