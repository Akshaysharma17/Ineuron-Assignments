{
 "cells": [
  {
   "cell_type": "markdown",
   "metadata": {},
   "source": [
    "1. What is the result of the code, and explain?\n",
    "\n",
    "\n",
    ">>> X = 'iNeuron'\n",
    ">>> def func():\n",
    "print(X)\n",
    "\n",
    "\n",
    ">>> func()\n",
    "\n",
    "Ans.\n",
    "\n",
    "Output:\n",
    "iNeuron\n",
    "\n",
    "---------------------------\n",
    "X is initialized as iNeuron at the beginning and the program will start executing from initialising X and then the function will get called and then it will print the value of X which is iNeuron"
   ]
  },
  {
   "cell_type": "markdown",
   "metadata": {},
   "source": [
    "2. What is the result of the code, and explain?\n",
    "\n",
    "\n",
    ">>> X = 'iNeuron'\n",
    ">>> def func():\n",
    "X = 'NI!'\n",
    "\n",
    "\n",
    ">>> func()\n",
    ">>> print(X)\n",
    "\n",
    "Ans.\n",
    "Output\n",
    "iNeuron\n",
    "\n",
    "\n",
    "-------------------------------------------\n",
    "X will get initialised at the beginning of the code. Then the function func() will get called which is overiding the value of X but as it is not returning the value of X and its scope is only inside the function that means print(X) will print the initial value of X and not the over rided value."
   ]
  },
  {
   "cell_type": "markdown",
   "metadata": {},
   "source": [
    "3. What does this code print, and why?\n",
    "\n",
    "\n",
    ">>> X = 'iNeuron'\n",
    ">>> def func():\n",
    "X = 'NI'\n",
    "print(X)\n",
    "\n",
    "\n",
    ">>> func()\n",
    ">>> print(X)\n",
    "\n",
    "Ans.\n",
    "Output\n",
    "\n",
    "NI\n",
    "iNeuron\n",
    "\n",
    "----------------------------\n",
    "As per this code, value of X is getting initialised as iNeuron and then the function will get called and it will initialise and print the new value of variable X as NI but its scope is limited to that function only so that's why when print(X) code will execute it will print the initial value of X only which is iNeuron."
   ]
  },
  {
   "cell_type": "markdown",
   "metadata": {},
   "source": [
    "4. What output does this code produce? Why?\n",
    "\n",
    "\n",
    ">>> X = 'iNeuron'\n",
    ">>> def func():\n",
    "global X\n",
    "X = 'NI'\n",
    "\n",
    "\n",
    ">>> func()\n",
    ">>> print(X)\n",
    "\n",
    "Ans.\n",
    "\n",
    "NI\n",
    "\n",
    "-------------------------------------------------------\n",
    "\n",
    " At the beginning of the code the value of X is initialised as iNeuron but when the function func() will get called in that global variable X will get called and its values get override as NI so that's why when the print statement will execute it will print the overridden value of X."
   ]
  },
  {
   "cell_type": "markdown",
   "metadata": {},
   "source": [
    "5. What about this code—what’s the output, and why?\n",
    "\n",
    "\n",
    ">>> X = 'iNeuron'\n",
    ">>> def func():\n",
    "X = 'NI'\n",
    "def nested():\n",
    "print(X)\n",
    "nested()\n",
    "\n",
    "\n",
    ">>> func()\n",
    ">>> X\n",
    "\n",
    "Ans.\n",
    "\n",
    "Output\n",
    "iNeuron\n",
    "\n",
    "'iNeuron'\n",
    "\n",
    "--------------------------------------------------------------------\n",
    "Value of global variable X is initialised as iNeuron at the beginning. so when the function nested is called it will print the global value of X as iNeuron and then the function func() will override the value as NI but its scope is only limited to func() function."
   ]
  },
  {
   "cell_type": "markdown",
   "metadata": {},
   "source": [
    "6. How about this code: what is its output in Python 3, and explain?\n",
    "\n",
    "\n",
    ">>> def func():\n",
    "X = 'NI'\n",
    "def nested():\n",
    "nonlocal X\n",
    "X = 'Spam'\n",
    "nested()\n",
    "print(X)\n",
    "\n",
    "\n",
    ">>> func()\n",
    "\n",
    "Ans.\n",
    "Output\n",
    "Spam\n",
    "\n",
    "------------------------------------------------------------------\n",
    "This example prints \"Spam\", because the nonlocal statement (Available in python 3.0 not 2.6) means the assingment to X inside function changes the X enclosing function's local scope. Without this statement, this assignment would classify X as local to the nested function, making it a different variable, the code would then print 'NI' instead "
   ]
  }
 ],
 "metadata": {
  "kernelspec": {
   "display_name": "Python 3",
   "language": "python",
   "name": "python3"
  },
  "language_info": {
   "codemirror_mode": {
    "name": "ipython",
    "version": 3
   },
   "file_extension": ".py",
   "mimetype": "text/x-python",
   "name": "python",
   "nbconvert_exporter": "python",
   "pygments_lexer": "ipython3",
   "version": "3.8.5"
  }
 },
 "nbformat": 4,
 "nbformat_minor": 4
}
