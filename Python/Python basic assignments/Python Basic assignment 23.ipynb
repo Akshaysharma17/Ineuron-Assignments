{
 "cells": [
  {
   "cell_type": "markdown",
   "metadata": {},
   "source": [
    "1. What is the result of the code, and why?\n",
    ">>> def func(a, b=6, c=8):\n",
    "print(a, b, c)\n",
    ">>> func(1, 2)\n",
    "\n",
    "Ans.\n",
    "\n",
    "-------------------------------------------------------------------------------------------------\n",
    "Output will be \"1 2 8\" as the values of variable a, b are passed when the function func() is called which means initial value of variable b will get override with the values passed and the value for third variable 'c' will be 8 which is already initialised where function is defined."
   ]
  },
  {
   "cell_type": "markdown",
   "metadata": {},
   "source": [
    "2. What is the result of this code, and why?\n",
    ">>> def func(a, b, c=5):\n",
    "print(a, b, c)\n",
    ">>> func(1, c=3, b=2)\n",
    "\n",
    "Ans.\n",
    "\n",
    "Output\n",
    "1 2 3\n",
    "\n",
    "Value of variable c will get override with the value provided at the time of function call. First value will get initialised to variable 'a' automatically and the value to variable 'b' will get initialised too at the time of function call. So that's why output will print values of variables a,b,c as 1,2,3."
   ]
  },
  {
   "cell_type": "markdown",
   "metadata": {},
   "source": [
    "3. How about this code: what is its result, and why?\n",
    ">>> def func(a, *pargs):\n",
    "print(a, pargs)\n",
    ">>> func(1, 2, 3)\n",
    "\n",
    "Ans.\n",
    "Output\n",
    "1 (2, 3)\n",
    "\n",
    "*args and **kwargs allow you to pass an unspecified number of arguments to a function, so when writing the function definition, you do not need to know how many arguments will be passed to your function.\n",
    "\n",
    "That's why when the function func() is called it will initialise the first value to first variable of the function and the rest numbers will initialised to *pargs as a tuple."
   ]
  },
  {
   "cell_type": "markdown",
   "metadata": {},
   "source": [
    "4. What does this code print, and why?\n",
    ">>> def func(a, **kargs):\n",
    "print(a, kargs)\n",
    ">>> func(a=1, c=3, b=2)\n",
    "\n",
    "Ans.\n",
    "\n",
    "Output\n",
    "1 {'c': 3, 'b': 2}\n",
    "\n",
    "------------------------------------------------------------------------------------------\n",
    "**kwargs allows you to pass keyworded variable length of arguments to a function. So the first value passed at the time of function func() called, it will initialise the variable 'a' and the rest of the variables will get assigned to **kwargs which will get stored as a dictionary in key value pair."
   ]
  },
  {
   "cell_type": "markdown",
   "metadata": {},
   "source": [
    "5. What gets printed by this, and explain?\n",
    ">>> def func(a, b, c=8, d=5): print(a, b, c, d)\n",
    ">>> func(1, *(5, 6))\n",
    "\n",
    "Ans.\n",
    "Output\n",
    "1 5 6 5\n",
    "\n",
    "---------------------------------------------\n",
    "As per this code function func() has two arguments one is 1 and other one is packed two numbers together as 5 and 6. so when it will be passed in function these two packed values will get unpacked and will get assigned to two different variables as b and c. so the values passed while calling the function will get stored in variables a,b,c where it will over ride the variable c value. whereas the variable d value has already assigned while defining the function as 5."
   ]
  },
  {
   "cell_type": "markdown",
   "metadata": {},
   "source": [
    "6. what is the result of this, and explain?\n",
    ">>> def func(a, b, c): a = 2; b[0] = 'x'; c['a'] = 'y'\n",
    ">>> l=1; m=[1]; n={'a':0}\n",
    ">>> func(l, m, n)\n",
    ">>> l, m, n\n",
    "\n",
    "Ans.\n",
    "Output\n",
    "(1, ['x'], {'a': 'y'})\n",
    "\n",
    "--------------------------------------------------------------------------------\n",
    "Values to global variables l,m,n will assign the values to variables a, b, c. So it will overide the values in function and in final values of l m n will be as 1, list['x'] and dict{'a':'y'} respectively."
   ]
  }
 ],
 "metadata": {
  "kernelspec": {
   "display_name": "Python 3",
   "language": "python",
   "name": "python3"
  },
  "language_info": {
   "codemirror_mode": {
    "name": "ipython",
    "version": 3
   },
   "file_extension": ".py",
   "mimetype": "text/x-python",
   "name": "python",
   "nbconvert_exporter": "python",
   "pygments_lexer": "ipython3",
   "version": "3.8.5"
  }
 },
 "nbformat": 4,
 "nbformat_minor": 4
}
