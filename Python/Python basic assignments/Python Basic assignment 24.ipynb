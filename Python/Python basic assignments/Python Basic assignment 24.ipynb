{
 "cells": [
  {
   "cell_type": "markdown",
   "metadata": {},
   "source": [
    "1. What is the relationship between def statements and lambda expressions ?\n",
    "\n",
    "Ans.\n",
    "\n",
    "Lambda functions are operator can have any number of arguments, but it can have only one expression. It cannot contain any statements and it returns a function object which can be assigned to any variable. They can be used in the block they were created.\n",
    "\n",
    "def functions: Functions help break our program into smaller and modular chunks. As our program grows larger and larger, functions make it more organised and manageable. They can be called and used anywhere we want."
   ]
  },
  {
   "cell_type": "markdown",
   "metadata": {},
   "source": [
    "2. What is the benefit of lambda?\n",
    "\n",
    "Ans.\n",
    "\n",
    "- Fewer Lines of Code\n",
    "- Sequential and Parallel execution support by passing behavior as an argument in methods\n",
    "- By using lambda expressions, we can achieve higher efficiency (parallel execution) in case of bulk operations on collections."
   ]
  },
  {
   "cell_type": "markdown",
   "metadata": {},
   "source": [
    "3. Compare and contrast map, filter, and reduce.\n",
    "\n",
    "Ans.\n",
    "\n",
    "The map() function iterates through all items in the given iterable and executes the function we passed as an argument on each of them.\n",
    "\n",
    "Similar to map(), filter() takes a function object and an iterable and creates a new list. As the name suggests, filter() forms a new list that contains only elements that satisfy a certain condition, i.e. the function we passed returns True.\n",
    "\n",
    "reduce() works differently than map() and filter(). It does not return a new list based on the function and iterable we've passed. Instead, it returns a single value.reduce() works by calling the function we passed for the first two items in the sequence. The result returned by the function is used in another call to function alongside with the next (third in this case), element. This process repeats until we've gone through all the elements in the sequence."
   ]
  },
  {
   "cell_type": "markdown",
   "metadata": {},
   "source": [
    "4. What are function annotations, and how are they used?\n",
    "\n",
    "Ans.\n",
    "Function annotations are arbitrary python expressions that are associated with various part of functions. These expressions are evaluated at compile time and have no life in python’s runtime environment. Python does not attach any meaning to these annotations. They take life when interpreted by third party libraries.\n",
    "\n",
    "\n",
    "    1. Annotations for simple parameters : The argument name is followed by ‘:’ which is then followed by the expression. Annotation syntax is shown below.\n",
    "\n",
    "def foobar(a: expression, b: expression = 5):\n",
    "\n",
    "\n",
    "    2.Annotations for excess parameters : Excess parameters for e.g. *args and **kwargs, allow arbitrary number of arguments to be passed in a function call. Annotation syntax of such parameters is shown below.\n",
    "\n",
    "def foobar(*args: expression, *kwargs: expression):\n",
    "\n",
    "\n",
    "    3. Annotations for nested parameters : Nested parameters are useful feature of python 2x where a tuple is passed in a function call and automatic unpacking takes place. This feature is removed in python 3x and manual unpacking should be done. Annotation is done after the variable and not after the tuple as shown below.\n",
    "\n",
    "def foobar((a: expression, b: expression), (c: expression, d: expression)):\n",
    "    \n",
    "    \n",
    "    4.Annotations for return type : Annotating return type is slightly different from annotating function arguments. The ‘->’ is followed by expression which is further followed by ‘:’. Annotation syntax of return type is shown below.\n",
    "\n",
    "def foobar(a: expression)->expression:"
   ]
  },
  {
   "cell_type": "markdown",
   "metadata": {},
   "source": [
    "5. What are recursive functions, and how are they used?\n",
    "\n",
    "Ans.\n",
    "\n",
    "Recursive functions means that the function will continue to call itself and repeat its behavior until some condition is met to return a result.\n",
    "\n",
    "Recursive functions are used by following below steps:\n",
    "    \n",
    "    1. Initialize the algorithm. Recursive programs often need a seed value to start with. This is accomplished either by using a parameter passed to the function or by providing a gateway function that is nonrecursive but that sets up the seed values for the recursive calculation.\n",
    "\n",
    "    2. Check to see whether the current value(s) being processed match the base case. If so, process and return the value.\n",
    "\n",
    "    3. Redefine the answer in terms of a smaller or simpler sub-problem or sub-problems.\n",
    "\n",
    "    4. Run the algorithm on the sub-problem.\n",
    "\n",
    "    5.Combine the results in the formulation of the answer.\n",
    "\n",
    "    6.Return the results."
   ]
  },
  {
   "cell_type": "markdown",
   "metadata": {},
   "source": [
    "6. What are some general design guidelines for coding functions?\n",
    "\n",
    "Ans.\n",
    "\n",
    "Some are the general design guidelines for coding functions are as follows:\n",
    "\n",
    "    1. Use 4-space indentation and no tabs.\n",
    "    2.2. Use docstrings : There are both single and multi-line docstrings that can be used in Python. However, the single line comment fits in one line, triple quotes are used in both cases. These are used to define a particular program or define a particular function.\n",
    "    3.Wrap lines so that they don’t exceed 79 characters : The Python standard library is conservative and requires limiting lines to 79 characters. The lines can be wrapped using parenthesis, brackets, and braces. They should be used in preference to backslashes.\n",
    "    4. Use of regular and updated comments are valuable to both the coders and users \n",
    "    5. Use of trailing commas. For eg: Tup = (\"Akshay\",)\n",
    "    6. Use spaces around operators and after commas, but not directly inside bracketing constructs. For eg: a = f(1, 2) + g(3, 4)\n",
    "    7. While naming of function of methods always use self for the first argument to instance methods and cls for the first argument to class methods.    "
   ]
  },
  {
   "attachments": {},
   "cell_type": "markdown",
   "metadata": {},
   "source": [
    "7. Name three or more ways that functions can communicate results to a caller.\n",
    "\n",
    "Ans.\n",
    "\n",
    "    1. Here – we see when function is not “return”. For example, we want the square of 4, and it should give answer “16” when the code is executed. Which it gives when we simply use “print x*x” code, but when you call function “print square” it gives “None” as an output. This is because when you call the function, recursion does not happen and fall off the end of the function. Python returns “None” for failing off the end of the function.for eg:\n",
    "    \n",
    "    def square(X):\n",
    "        print(X*X)\n",
    "        \n",
    "    print(square(16))\n",
    "Output:\n",
    "    16\n",
    "    None\n",
    "    \n",
    "\n",
    "    2. When we use the “return” function and execute the code, it will give the output “16.” For eg:\n",
    "    \n",
    "        def square(X):\n",
    "        return X*X\n",
    "        \n",
    "        print(square(16))\n",
    "Output:\n",
    "    16\n",
    "   \n",
    "    \n",
    "    3. Functions in Python are themselves an object, and an object has some value. When we run the command “print square” it returns the value of the object. Since we have not passed any argument, we don’t have any specific function to run over here it returns a default value (0x021B2D30) which is the location of the object. for eg:\n",
    "    \n",
    "        def square(X):\n",
    "            return X*X\n",
    "        \n",
    "        print(square)\n",
    "\n",
    "Output:\n",
    "    <function square at 0x021B2D30> "
   ]
  }
 ],
 "metadata": {
  "kernelspec": {
   "display_name": "Python 3",
   "language": "python",
   "name": "python3"
  },
  "language_info": {
   "codemirror_mode": {
    "name": "ipython",
    "version": 3
   },
   "file_extension": ".py",
   "mimetype": "text/x-python",
   "name": "python",
   "nbconvert_exporter": "python",
   "pygments_lexer": "ipython3",
   "version": "3.8.5"
  }
 },
 "nbformat": 4,
 "nbformat_minor": 4
}
