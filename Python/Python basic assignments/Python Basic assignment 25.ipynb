{
 "cells": [
  {
   "cell_type": "markdown",
   "metadata": {},
   "source": [
    "1) What is the difference between enclosing a list comprehension in square brackets and parentheses?\n",
    "\n",
    "Ans.\n",
    "\n",
    "Square brackets are lists while parentheses are tuples.\n",
    "\n",
    "A list is mutable, meaning you can change its contents while tuples are not"
   ]
  },
  {
   "cell_type": "markdown",
   "metadata": {},
   "source": [
    "2) What is the relationship between generators and iterators?\n",
    "\n",
    "Ans.\n",
    "\n",
    "Iterator\n",
    "An iterator is an object which contains a countable number of values and it is used to iterate over iterable objects like list, tuples, sets, etc. Iterators are implemented using a class and a local variable for iterating is not required here, It follows lazy evaluation where the evaluation of the expression will be on hold and stored in the memory until the item is called specifically which helps us to avoid repeated evaluation.\n",
    "\n",
    "Generator\n",
    "It is another way of creating iterators in a simple way where it uses the keyword “yield” instead of returning it in a defined function. Generators are implemented using a function. Just as iterators, generators also follow lazy evaluation."
   ]
  },
  {
   "cell_type": "markdown",
   "metadata": {},
   "source": [
    "3) What are the signs that a function is a generator function?\n",
    "\n",
    "Ans.\n",
    "\n",
    "\n",
    "It is fairly simple to create a generator in Python. It is as easy as defining a normal function, but with a yield statement instead of a return statement.If a function contains at least one yield statement (it may contain other yield or return statements), it becomes a generator function."
   ]
  },
  {
   "cell_type": "markdown",
   "metadata": {},
   "source": [
    "4) What is the purpose of a yield statement?\n",
    "\n",
    "Ans.\n",
    "\n",
    "Yield in Python can be used like the return statement in a function. When done so, the function instead of returning the output, it returns a generator that can be iterated upon. You can then iterate through the generator to extract items."
   ]
  },
  {
   "cell_type": "markdown",
   "metadata": {},
   "source": [
    "5) What is the relationship between map calls and list comprehensions? Make a comparison and contrast between the two.\n",
    "\n",
    "Ans.\n",
    "\n",
    "    1.List comprehension is more concise and easier to read as compared to map.\n",
    "    2.List comprehension allows filtering. In map, we have no such facility. For example, to print all even numbers in range of 100, we can write [n for n in range(100) if n%2 == 0]. There is no alternate for it in map.\n",
    "    3.List comprehension are used when a list of results is required as map only returns a map object and does not return any list.\n",
    "    4.List comprehension is faster than map when we need to evaluate expressions that are too long or complicated to express\n",
    "    5.Map is faster in case of calling an already defined function (as no lambda is required)."
   ]
  }
 ],
 "metadata": {
  "kernelspec": {
   "display_name": "Python 3",
   "language": "python",
   "name": "python3"
  },
  "language_info": {
   "codemirror_mode": {
    "name": "ipython",
    "version": 3
   },
   "file_extension": ".py",
   "mimetype": "text/x-python",
   "name": "python",
   "nbconvert_exporter": "python",
   "pygments_lexer": "ipython3",
   "version": "3.8.5"
  }
 },
 "nbformat": 4,
 "nbformat_minor": 4
}
