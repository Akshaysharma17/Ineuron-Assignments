{
 "cells": [
  {
   "cell_type": "markdown",
   "metadata": {},
   "source": [
    "### 1. Why are functions advantageous to have in your programs?\n",
    "\n",
    "### Ans\n",
    "\n",
    "Functions reduce the need for duplicate code and this makes programs shorter, easier to read, and easier to update. And it makes very easy to execute a block of code if in case it is required many time in one project."
   ]
  },
  {
   "cell_type": "markdown",
   "metadata": {},
   "source": [
    "### 2. When does the code in a function run: when it's specified or when it's called?\n",
    "\n",
    "### Ans \n",
    "\n",
    "Code in a function runs, whenever the function is called in between the program. \n",
    "Function is usually specified at the begining of the program but it's been also specified anywhere in between of the program but before we call the function in program.\n"
   ]
  },
  {
   "cell_type": "markdown",
   "metadata": {},
   "source": [
    "### 3. What statement creates a function?\n",
    "\n",
    "### Ans\n",
    "\n",
    "Below Statement creates a function \n",
    "\n",
    "def function_name(parameters):\n",
    "\t\"\"\"docstring\"\"\"\n",
    "\tstatement(s)"
   ]
  },
  {
   "cell_type": "markdown",
   "metadata": {},
   "source": [
    "### 4. What is the difference between a function and a function call?\n",
    "### Ans\n",
    "\n",
    "Difference between a function and a function call is when the function is defined the statement starts with def along with the function body eg as below\n",
    "\n",
    "def function_name(parameters):\n",
    "\t\"\"\"docstring\"\"\"\n",
    "\tstatement(s)\n",
    "    \n",
    "\n",
    "but when the function is called, it is being called by its function name eg if a function name is add(a,b) with parameters as a & b with return as an int, we can call as below\n",
    "\n",
    "\n",
    "result = add(a,b) whereas the a & b will be the values on which the operation will execute\n"
   ]
  },
  {
   "cell_type": "markdown",
   "metadata": {},
   "source": [
    "### 5. How many global scopes are there in a Python program? How many local scopes?\n",
    "### Ans\n",
    "\n",
    "There's only one global scope per python program execution. and can be many local scopes as per the program requirements. "
   ]
  },
  {
   "cell_type": "markdown",
   "metadata": {},
   "source": [
    "### 6. What happens to variables in a local scope when the function call returns?\n",
    "### Ans. \n",
    "\n",
    "Local scope variables gets destroyed When the execution of the function terminates (returns).\n"
   ]
  },
  {
   "cell_type": "markdown",
   "metadata": {},
   "source": [
    "### 7. What is the concept of a return value? Is it possible to have a return value in an expression?\n",
    "### Ans.\n",
    "\n",
    "A return is a value that a function returns to the calling script or function when it completes its task.\n",
    "\n",
    "yes it is possible to have a return value in an expression."
   ]
  },
  {
   "cell_type": "markdown",
   "metadata": {},
   "source": [
    "### 8. If a function does not have a return statement, what is the return value of a call to that function?\n",
    "### Ans. \n",
    "\n",
    "If no return statement appears in a function definition, control automatically returns to the calling function after the last statement of the called function is executed. In this case, the return value of the called function is undefined.\n"
   ]
  },
  {
   "cell_type": "markdown",
   "metadata": {},
   "source": [
    "### 9. How do you make a function variable refer to the global variable?\n",
    "### Ans. \n",
    "\n",
    "We can make a function variable refer to the global variable by using global inbuilt keyword to declare which variables are global.\n",
    "\n",
    "eg:\n",
    "\n",
    "globvar = 5\n",
    "def f():\n",
    "    global globvar\n",
    "    print(globvar)\n",
    "f()   #prints 5"
   ]
  },
  {
   "cell_type": "markdown",
   "metadata": {},
   "source": [
    "### 10. What is the data type of None?\n",
    "\n",
    "### Ans.\n",
    "\n",
    "NoneType"
   ]
  },
  {
   "cell_type": "markdown",
   "metadata": {},
   "source": [
    "### 11. What does the sentence import areallyourpetsnamederic do?\n",
    "\n",
    "### Ans\n",
    "\n",
    "Import areallyourpetsnamederic will import a module named as 'areallyourpetsnamederic'."
   ]
  },
  {
   "cell_type": "markdown",
   "metadata": {},
   "source": [
    "### 12. If you had a bacon() feature in a spam module, what would you call it after importing spam?\n",
    "\n",
    "###Ans. We would call bacon feature as follows \n",
    "\n",
    "spam.bacon()\n"
   ]
  },
  {
   "cell_type": "markdown",
   "metadata": {},
   "source": [
    "### 13. What can you do to save a programme from crashing if it encounters an error?\n",
    "### Ans.\n",
    "\n",
    "If an error occurs in a program and we don't want the program to unexpectedly crash. Instead, error handling can be used to notify the user of why the error occurred and gracefully exit the process that caused the error."
   ]
  },
  {
   "cell_type": "markdown",
   "metadata": {},
   "source": [
    "### 14. What is the purpose of the try clause? What is the purpose of the except clause?\n",
    "### Ans.\n",
    "\n",
    "The purpose of try clause to allow you to try to perform an action and then if an exception occurs, catch the exception clause and deal with it gracefully rather than crashing."
   ]
  }
 ],
 "metadata": {
  "kernelspec": {
   "display_name": "Python 3",
   "language": "python",
   "name": "python3"
  },
  "language_info": {
   "codemirror_mode": {
    "name": "ipython",
    "version": 3
   },
   "file_extension": ".py",
   "mimetype": "text/x-python",
   "name": "python",
   "nbconvert_exporter": "python",
   "pygments_lexer": "ipython3",
   "version": "3.8.5"
  }
 },
 "nbformat": 4,
 "nbformat_minor": 4
}
