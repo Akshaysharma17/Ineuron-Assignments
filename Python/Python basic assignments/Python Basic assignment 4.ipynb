{
 "cells": [
  {
   "cell_type": "markdown",
   "metadata": {},
   "source": [
    "1. What exactly is []?\n",
    "\n",
    "Ans.\n",
    "These are called Brackets which we use in python programming to insert a values in list. The empty list value, which is a list value that contains no items. This is similar to how '' is the empty string value."
   ]
  },
  {
   "cell_type": "markdown",
   "metadata": {},
   "source": [
    "2. In a list of values stored in a variable called spam, how would you assign the value 'hello' as the third value? (Assume [2, 4, 6, 8, 10] are in spam.)\n",
    "\n",
    "Let's pretend the spam includes the list ['a', 'b', 'c', 'd'] for the next three queries.\n",
    "\n",
    "Ans. \n",
    "\n",
    "spam = [2,4,6,8,10]\n",
    "spam.insert(2,'hello')\n",
    "\n",
    "FYI: so as per my understanding the last line of ques 2 means the spam should be like below for next three queries\n",
    "[2, 4, 'hello', 6, 8, 10,['a','b','c','d']]"
   ]
  },
  {
   "cell_type": "markdown",
   "metadata": {},
   "source": [
    "3. What is the value of spam[int(int('3' * 2) / 11)]?\n",
    "\n",
    "Ans \n",
    "\n",
    "Values of spam[int(int('3' * 2) / 11)] is 6. if the spam contains these values [2, 4, 'hello', 6, 8, 10,['a','b','c','d']] "
   ]
  },
  {
   "cell_type": "markdown",
   "metadata": {},
   "source": [
    "4. What is the value of spam[-1]?\n",
    "\n",
    "Ans \n",
    "\n",
    "['a','b','c','d']"
   ]
  },
  {
   "cell_type": "markdown",
   "metadata": {},
   "source": [
    "5. What is the value of spam[:2]?\n",
    "Let's pretend bacon has the list [3.14, 'cat', 11, 'cat', True] for the next three questions.\n",
    "\n",
    "Ans\n",
    "\n",
    "[2, 4]"
   ]
  },
  {
   "cell_type": "markdown",
   "metadata": {},
   "source": [
    "6. What is the value of bacon.index('cat')?\n",
    "\n",
    "Ans\n",
    "\n",
    "The value of bacon.index('cat') is 1."
   ]
  },
  {
   "cell_type": "markdown",
   "metadata": {},
   "source": [
    "7. How does bacon.append(99) change the look of the list value in bacon?\n",
    "\n",
    "Ans\n",
    "\n",
    "New bacon list will look as below\n",
    "\n",
    "[3.14, 'cat', 11, 'cat', True, 99]"
   ]
  },
  {
   "cell_type": "markdown",
   "metadata": {},
   "source": [
    "8. How does bacon.remove('cat') change the look of the list in bacon?\n",
    "\n",
    "Ans [3.14, 11, 'cat', True, 99]\n",
    "\n",
    "Assuming that the list for this question is [3.14, 11, 'cat', True, 99]"
   ]
  },
  {
   "cell_type": "markdown",
   "metadata": {},
   "source": [
    "9. What are the list concatenation and list replication operators?\n",
    "\n",
    "Ans List concatination operator: +\n",
    "    List replication operator: *"
   ]
  },
  {
   "cell_type": "markdown",
   "metadata": {},
   "source": [
    "10. What is difference between the list methods append() and insert()?\n",
    "\n",
    "Ans \n",
    "\n",
    "append() adds the value in the last place of the list\n",
    "\n",
    "Eg: \n",
    "bacon=[3.14, 'cat', 11, 'cat', True]\n",
    "bacon.append('cat')\n",
    "bacon\n",
    "\n",
    "Output\n",
    "[3.14, 'cat', 11, 'cat', True, 'cat']\n",
    "\n",
    "\n",
    "\n",
    "insert() adds the value in list on desired location or as per user's specified location.\n",
    "\n",
    "Eg:\n",
    "\n",
    "bacon=[3.14, 'cat', 11, 'cat', True]\n",
    "bacon.insert(5,'cat')\n",
    "bacon\n",
    "\n",
    "Output\n",
    "[3.14, 'cat', 11, 'cat', True, 'cat']"
   ]
  },
  {
   "cell_type": "markdown",
   "metadata": {},
   "source": [
    "11. What are the two methods for removing items from a list?\n",
    "\n",
    "Ans The two type of methodes for removing items from a list are\n",
    "\n",
    "1. remove()\n",
    "It helps to remove the very first given element matching from the list. \n",
    "\n",
    "2. pop()\n",
    "The pop() method removes an element from the list based on the index given."
   ]
  },
  {
   "cell_type": "markdown",
   "metadata": {},
   "source": [
    "12. Describe how list values and string values are identical.\n",
    "\n",
    "Ans \n",
    "\n",
    "A list is a sequential collection of Python data values, where each value is identified by an index. Which is identical in strings too where the values is identified by an index. As well as we can read, find and perform many operations to any values in list and string by specifying index of the values."
   ]
  },
  {
   "cell_type": "markdown",
   "metadata": {},
   "source": [
    "13. What's the difference between tuples and lists?\n",
    "\n",
    "Ans\n",
    "\n",
    "List and Tuple in Python are the class of data structure. \n",
    "The list is dynamic, whereas the tuple has static characteristics. \n",
    "List is mutable in nature whereas Tuple is immutable in nature."
   ]
  },
  {
   "cell_type": "markdown",
   "metadata": {},
   "source": [
    "14. How do you type a tuple value that only contains the integer 42?\n",
    "\n",
    "Ans tup=(42,)"
   ]
  },
  {
   "cell_type": "markdown",
   "metadata": {},
   "source": [
    "15. How do you get a list value's tuple form? How do you get a tuple value's list form?\n",
    "\n",
    "Ans \n",
    "\n",
    "Get a list value's to tuple form\n",
    " l = ['my', 'name', 'is', 'mr', 'list']\n",
    "l=tuple(l)\n",
    "type(l)\n",
    "\n",
    "Output\n",
    "tuple\n",
    "\n",
    "\n",
    "\n",
    "\n",
    "Get a tuple value's to list form\n",
    "\n",
    "t = ('my', 'name', 'is', 'mr', 'tuple')\n",
    "t=list(t)\n",
    "type(t)\n",
    "\n",
    "Output\n",
    "list"
   ]
  },
  {
   "cell_type": "markdown",
   "metadata": {},
   "source": [
    "16. Variables that \"contain\" list values are not necessarily lists themselves. Instead, what do they contain?\n",
    "\n",
    "Ans  Variables that \"contain\" list values are not lists themselves instead of that it contains reference. When you assign a list to a variable, you are actually assigning a list reference to the variable. A reference is a value that points to some bit of data, and a list reference is a value that points to a list. "
   ]
  },
  {
   "cell_type": "markdown",
   "metadata": {},
   "source": [
    "17. How do you distinguish between copy.copy() and copy.deepcopy()?\n",
    "\n",
    "Ans copy.copy() is known as shallow copy in which when you use to copy one list to another list it creates a separate memory allocation to copied list which means if you make changes in one list's values it will not reflect in other list. It only works for one dimensional list meaning for nested list the memory allocation will be same in copied list as in original list.\n",
    "\n",
    "Whereas copy.deepcopy() is known as deep copy in which when we use to copy one list to another list it creates a memory allocation to one dimensional list as well as to all nested lists too. And if you make changes to nested list also it will not affect other list too in that scenario. "
   ]
  }
 ],
 "metadata": {
  "kernelspec": {
   "display_name": "Python 3",
   "language": "python",
   "name": "python3"
  },
  "language_info": {
   "codemirror_mode": {
    "name": "ipython",
    "version": 3
   },
   "file_extension": ".py",
   "mimetype": "text/x-python",
   "name": "python",
   "nbconvert_exporter": "python",
   "pygments_lexer": "ipython3",
   "version": "3.8.5"
  }
 },
 "nbformat": 4,
 "nbformat_minor": 4
}
