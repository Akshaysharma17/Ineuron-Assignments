{
 "cells": [
  {
   "cell_type": "markdown",
   "metadata": {},
   "source": [
    "1. What does an empty dictionary's code look like?\n",
    "\n",
    "Ans. Empty dictionary looks like below, where A is a variable name for empty dictionary along with curly brackets.\n",
    "\n",
    "A={}\n",
    "\n"
   ]
  },
  {
   "cell_type": "markdown",
   "metadata": {},
   "source": [
    "2. What is the value of a dictionary value with the key 'foo' and the value 42?\n",
    "\n",
    "Ans.\n",
    "\n",
    "Input\n",
    "value={'foo':42}\n",
    "value['foo']\n",
    "\n",
    "Output \n",
    "42\n",
    "\n",
    "In this value is the variable name of the dictionary whereas 'foo' is the key of the dictionary and 42 is the value of the dictionary."
   ]
  },
  {
   "cell_type": "markdown",
   "metadata": {},
   "source": [
    "3. What is the most significant distinction between a dictionary and a list?\n",
    "\n",
    "Ans.\n",
    "\n",
    "A list is an ordered sequence of objects, whereas dictionaries are unordered sets. \n",
    "However, the main difference is that items in dictionaries are accessed via keys and not via their position. Any key of the dictionary is associated (or mapped) to a value. The values of a dictionary can be any type of Python data.\n",
    "\n"
   ]
  },
  {
   "cell_type": "markdown",
   "metadata": {},
   "source": [
    "4. What happens if you try to access spam['foo'] if spam is {'bar': 100}?\n",
    "\n",
    "Ans.\n",
    "\n",
    "We will recieve below error as there are no key values as foo in spam dictionary.\n",
    "\n",
    "Error:\n",
    "\n",
    "KeyError                                  Traceback (most recent call last)\n",
    "<ipython-input-30-9b5a94d1de8d> in <module>\n",
    "----> 1 spam['foo']\n",
    "\n",
    "KeyError: 'foo'"
   ]
  },
  {
   "cell_type": "markdown",
   "metadata": {},
   "source": [
    "5. If a dictionary is stored in spam, what is the difference between the expressions 'cat' in spam and 'cat' in spam.keys()?\n",
    "\n",
    "Ans.  i guess this question is incorrect as there is no difference in expressions i.e 'cat' in spam and 'cat' in spam.keys() as both the expressions will check 'cat' as a key in dictionary.\n",
    "\n"
   ]
  },
  {
   "cell_type": "markdown",
   "metadata": {},
   "source": [
    "6. If a dictionary is stored in spam, what is the difference between the expressions 'cat' in spam and 'cat' in spam.values()?\n",
    "\n",
    "Ans.  So the differnce between the expressions 'cat' in spam and 'cat' in spam.values() is as below\n",
    "\n",
    "'cat' in spam will search 'cat' as a key in spam dictionary as default whereas 'cat' in spam.values() will search 'cat' in all the values present in dictionary.\n"
   ]
  },
  {
   "cell_type": "markdown",
   "metadata": {},
   "source": [
    "7. What is a shortcut for the following code?\n",
    "if 'color' not in spam:\n",
    "spam['color'] = 'black'\n",
    "\n",
    "Ans. \n",
    "\n",
    "if 'color' not in spam : spam['color'] = 'black'\n",
    "\n",
    "    \n",
    "\n",
    "\n"
   ]
  },
  {
   "cell_type": "markdown",
   "metadata": {},
   "source": [
    "8. How do you \"pretty print\" dictionary values using which module and function?\n",
    "Ans.\n",
    "\n",
    "\n",
    "#### Input\n",
    "\n",
    "import json\n",
    "dict={'eno':101,'sal':20000,\"ename\":\"Ravi\"}\n",
    "json.dumps(dict,indent=10)\n",
    "\n",
    "#### output\n",
    "\n",
    "'{\\n          \"eno\": 101,\\n          \"sal\": 20000,\\n          \"ename\": \"Ravi\"\\n}'"
   ]
  }
 ],
 "metadata": {
  "kernelspec": {
   "display_name": "Python 3",
   "language": "python",
   "name": "python3"
  },
  "language_info": {
   "codemirror_mode": {
    "name": "ipython",
    "version": 3
   },
   "file_extension": ".py",
   "mimetype": "text/x-python",
   "name": "python",
   "nbconvert_exporter": "python",
   "pygments_lexer": "ipython3",
   "version": "3.8.5"
  }
 },
 "nbformat": 4,
 "nbformat_minor": 4
}
