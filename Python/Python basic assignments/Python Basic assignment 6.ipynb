{
 "cells": [
  {
   "cell_type": "markdown",
   "metadata": {},
   "source": [
    "#### 1. What are escape characters, and how do you use them?\n",
    "#### Ans.\n",
    "\n",
    "In Python strings, the backslash \"\\\" is a special character, also called the \"escape\" character. It is used in representing certain whitespace characters: \"\\t\" is a tab, \"\\n\" is a newline, and \"\\r\" is a carriage return"
   ]
  },
  {
   "cell_type": "markdown",
   "metadata": {},
   "source": [
    "#### 2. What do the escape characters n and t stand for?\n",
    "#### Ans.\n",
    "\\n stands for a next line.\n",
    "\\t stands for a tab which leaves a blank space of 4 bit."
   ]
  },
  {
   "cell_type": "markdown",
   "metadata": {},
   "source": [
    "### 3. What is the way to include backslash characters in a string?\n",
    "#### Ans.\n",
    "\n",
    "The way to include backslash characters in a string is to put a double backslash before the character. eg\n",
    "\n",
    "print(\"This is a test \\\\n string\")\n",
    "\n",
    "#### output\n",
    "\n",
    "This is a test \\n string"
   ]
  },
  {
   "cell_type": "markdown",
   "metadata": {},
   "source": [
    "#### 4. The string \"Howl's Moving Castle\" is a correct value. Why isn't the single quote character in the word Howl's not escaped a problem?\n",
    "#### Ans.\n",
    "\n",
    "The single quote character in the word Howl's not escaped a problem because the string \"Howl's Moving Castle\" enclosed between double inverted commas due to which interpreter is able to understand and distinguish the starting and ending of a string.\n",
    "\n"
   ]
  },
  {
   "cell_type": "markdown",
   "metadata": {},
   "source": [
    "#### 5. How do you write a string of newlines if you don't want to use the n character?\n",
    "#### Ans.\n",
    "We can write newlines string by enclosing it under 3 commas at the starting and 3 commas at the end. Eg below for reference\n",
    "\n",
    "print('''This is Line 1\n",
    "Whereas this is Line 2\n",
    "And this is line 3''')\n"
   ]
  },
  {
   "cell_type": "markdown",
   "metadata": {},
   "source": [
    "#### 6. What are the values of the given expressions?\n",
    "'Hello, world!'[1]\n",
    "'Hello, world!'[0:5]\n",
    "'Hello, world!'[:5]\n",
    "'Hello, world!'[3:]\n",
    "\n",
    "#### Ans.\n",
    "\n",
    "'Hello, world!'[1] ------------ e\n",
    "'Hello, world!'[0:5] ---------- Hello\n",
    "'Hello, world!'[:5] ----------- Hello\n",
    "'Hello, world!'[3:] ----------- lo, world! \n"
   ]
  },
  {
   "cell_type": "markdown",
   "metadata": {},
   "source": [
    "#### 7. What are the values of the following expressions?\n",
    "'Hello'.upper()\n",
    "'Hello'.upper().isupper()\n",
    "'Hello'.upper().lower()\n",
    "\n",
    "#### Ans.\n",
    "'Hello'.upper() ----------------- 'HELLO'\n",
    "'Hello'.upper().isupper() ------- True\n",
    "'Hello'.upper().lower() --------- 'hello'\n"
   ]
  },
  {
   "cell_type": "markdown",
   "metadata": {},
   "source": [
    "#### 8. What are the values of the following expressions?\n",
    "'Remember, remember, the fifth of July.'.split()\n",
    "'-'.join('There can only one.'.split())\n",
    "\n",
    "#### Ans \n",
    "\n",
    "'Remember, remember, the fifth of July.'.split()\n",
    "['Remember,', 'remember,', 'the', 'fifth', 'of', 'July.']\n",
    "\n",
    "\n",
    "\n",
    "'-'.join('There can only one.'.split())\n",
    "'There-can-only-one.'"
   ]
  },
  {
   "cell_type": "markdown",
   "metadata": {},
   "source": [
    "#### 9. What are the methods for right-justifying, left-justifying, and centering a string?\n",
    "\n",
    "#### Ans.\n",
    "\n",
    "If printed text is right-justified, each line finishes at the same distance from the right-hand edge of the page or column.\n",
    "\n",
    "If printed text is left-justified, each line begins at the same distance from the left-hand edge of the page or column.\n",
    "\n",
    "The center() method creates and returns a new string which is padded with the specified character. Syntax: string. center(length[, fillchar])\n",
    "\n"
   ]
  },
  {
   "cell_type": "markdown",
   "metadata": {},
   "source": [
    "#### 10. What is the best way to remove whitespace characters from the start or end?\n",
    "\n",
    "#### Ans.\n",
    "\n",
    "We can replace whitespace with no space using replace(). Eg\n",
    "\n",
    "c='This is a Test String.'\n",
    "c.replace(' ','')\n",
    "\n",
    "##### Output\n",
    "\n",
    "'ThisisaTestString.'"
   ]
  }
 ],
 "metadata": {
  "kernelspec": {
   "display_name": "Python 3",
   "language": "python",
   "name": "python3"
  },
  "language_info": {
   "codemirror_mode": {
    "name": "ipython",
    "version": 3
   },
   "file_extension": ".py",
   "mimetype": "text/x-python",
   "name": "python",
   "nbconvert_exporter": "python",
   "pygments_lexer": "ipython3",
   "version": "3.8.5"
  }
 },
 "nbformat": 4,
 "nbformat_minor": 4
}
