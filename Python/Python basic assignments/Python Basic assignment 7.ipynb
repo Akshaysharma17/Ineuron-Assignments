{
 "cells": [
  {
   "cell_type": "markdown",
   "metadata": {},
   "source": [
    "#### 1. What is the name of the feature responsible for generating Regex objects?\n",
    "\n",
    "#### Ans.  \n",
    "\n",
    "re.compile() is responsible for generating Regex objects."
   ]
  },
  {
   "cell_type": "markdown",
   "metadata": {},
   "source": [
    "#### 2. Why do raw strings often appear in Regex objects?\n",
    "\n",
    "#### Ans.\n",
    "\n",
    "Raw strings are used so that backslashes do not escapes."
   ]
  },
  {
   "cell_type": "markdown",
   "metadata": {},
   "source": [
    "#### 3. What is the return value of the search() method?\n",
    "\n",
    "#### Ans. \n",
    "\n",
    "The search() method searches a string for a specified value, and returns the position of the match.\n",
    "\n"
   ]
  },
  {
   "cell_type": "markdown",
   "metadata": {},
   "source": [
    "#### 4. From a Match item, how do you get the actual strings that match the pattern?\n",
    "\n",
    "#### Ans.\n",
    "\n",
    "import re\n",
    "Match ='My name is TATA Akshay Sharma.TATA.TATA'\n",
    "pattern = re.compile(r\"\\bsh\\w\\w\\w\\w\",re.IGNORECASE)\n",
    "result = pattern.finditer(Match)\n",
    "for i in result:\n",
    "    print(i)"
   ]
  },
  {
   "cell_type": "markdown",
   "metadata": {},
   "source": [
    "#### 5. In the regex which created from the r'(\\d\\d\\d)-(\\d\\d\\d-\\d\\d\\d\\d)', what does group zero cover? Group 2? Group 1?\n",
    "\n",
    "#### Ans.\n",
    "\n",
    "Group 0 is the entire match, \n",
    "Group 1 covers the first set of parentheses, \n",
    "and Group 2 covers the second set of parentheses.\n"
   ]
  },
  {
   "cell_type": "markdown",
   "metadata": {},
   "source": [
    "#### 6. In standard expression syntax, parentheses and intervals have distinct meanings. How can you tell a regex that you want it to fit real parentheses and periods?\n",
    "\n",
    "#### Ans.\n",
    "We can tell regex that we want it to fit real parentheses and periods by using escape character backslash '\\' prior to such characters.\n"
   ]
  },
  {
   "cell_type": "markdown",
   "metadata": {},
   "source": [
    "#### 7. The findall() method returns a string list or a list of string tuples. What causes it to return one of the two options?\n",
    "\n",
    "#### Ans. \n",
    "\n",
    "The findall() method returns a string list If one group is present in the pattern and it returns list of string tuples if the pattern has more than one group."
   ]
  },
  {
   "cell_type": "markdown",
   "metadata": {},
   "source": [
    "#### 8. In standard expressions, what does the | character mean?\n",
    "\n",
    "#### Ans. \n",
    "the | character mean Either or"
   ]
  },
  {
   "cell_type": "markdown",
   "metadata": {},
   "source": [
    "#### 9. In regular expressions, what does the character stand for?\n",
    "\n",
    "#### Ans.\n",
    "Each character in a regular expression (that is, each character in the string describing its pattern) is either a metacharacter, having a special meaning, or a regular character that has a literal meaning."
   ]
  },
  {
   "cell_type": "markdown",
   "metadata": {},
   "source": [
    "#### 10.In regular expressions, what is the difference between the + and * characters?\n",
    "\n",
    "#### Ans.\n",
    "\n",
    "+ indicate that the preceding expression MUST match at least one time or multiple times and it is the same as {1,}.\n",
    "* character means that the preceding expression can match zero or more times it is like {0,}."
   ]
  },
  {
   "cell_type": "markdown",
   "metadata": {},
   "source": [
    "#### 11. What is the difference between {4} and {4,5} in regular expression?\n",
    "\n",
    "#### Ans. \n",
    "\n",
    "{4} specifies the exact number of times the character will be present in the pattern.\n",
    "{4,5} specifies that the character will be present 4 to 5 times in the pattern."
   ]
  },
  {
   "cell_type": "markdown",
   "metadata": {},
   "source": [
    "#### 12. What do you mean by the \\d, \\w, and \\s shorthand character classes signify in regular expressions?\n",
    "\n",
    "#### Ans.\n",
    "\n",
    "\\d Returns a match where the string contains digits  (number from 0-9)\n",
    "\n",
    "\\w Returns a match where the string contains any word characters.(Characters from a to Z, digits from 0-9, and the underscore _ character)\n",
    "\n",
    "\\s Returns a match where the string contains a white space character."
   ]
  },
  {
   "cell_type": "markdown",
   "metadata": {},
   "source": [
    "#### 13. What do means by \\D, \\W, and \\S shorthand character classes signify in regular expressions?\n",
    "\n",
    "#### Ans.\n",
    "\n",
    "\\D Returns a match where the string DOES NOT contains digits (numbers from 0-9)\n",
    "\n",
    "\\W eturns a match where the string DOES NOT contain any word characters.\n",
    "\n",
    "\\S Returns a match where the string DOES NOT contain a white space character."
   ]
  },
  {
   "cell_type": "markdown",
   "metadata": {},
   "source": [
    "#### 14. What is the difference between (.*?) and (.*)?\n",
    "\n",
    "#### Ans.\n",
    "\n",
    "String:'singing'. It contains the literal ng twice. \n",
    "\n",
    "In (.*?)ng, (.*?) will grab everything up until the first ng - once it sees that, it's done: it's lazy. It will capture si in this case. \n",
    "\n",
    "(.*)?ng will try to capture as much as possible - it's greedy - leaving only the final ng out. It captures singi here."
   ]
  },
  {
   "cell_type": "markdown",
   "metadata": {},
   "source": [
    "#### 15. What is the syntax for matching both numbers and lowercase letters with a character class?\n",
    "\n",
    "#### Ans.\n",
    "\n",
    "\\w is the syntax for matching both numbers and lowercase letters with a character class."
   ]
  },
  {
   "cell_type": "markdown",
   "metadata": {},
   "source": [
    "#### 16. What is the procedure for making a normal expression in regex case insensitive?\n",
    "\n",
    "#### Ans. \n",
    "\n",
    "We can make a normal expression in regex case insensitive expression by passing re.IGNORECASE as a parameter in regex compile methode.  \n",
    "\n",
    "Eg:\n",
    "regex=re.compile(r'pattern',re.IGNORECASE)"
   ]
  },
  {
   "cell_type": "markdown",
   "metadata": {},
   "source": [
    "#### 17. What does the . character normally match? What does it match if re.DOTALL is passed as 2nd argument in re.compile()?\n",
    "\n",
    "#### Ans.\n",
    "\n",
    "(Dot.) In the default mode, this matches any character except a newline. If the re.DOTALL flag has been specified, this matches any character including a newline."
   ]
  },
  {
   "cell_type": "markdown",
   "metadata": {},
   "source": [
    "#### 18. If numReg = re.compile(r'\\d+'), what will numRegex.sub('X', '11 drummers, 10 pipers, five rings, 4 hen') return?\n",
    "\n",
    "#### Ans.\n",
    "\n",
    "numRegex.sub('X', '11 drummers, 10 pipers, five rings, 4 hen') will return as below\n",
    "\n",
    "'X drummers, X pipers, five rings, X hen'"
   ]
  },
  {
   "cell_type": "markdown",
   "metadata": {},
   "source": [
    "#### 19. What does passing re.VERBOSE as the 2nd argument to re.compile() allow to do?\n",
    "\n",
    "#### Ans.\n",
    "\n",
    "re.VERBOSE flag allows you to write regular expressions that look nicer and are more readable by allowing you to visually separate logical sections of the pattern and add comments."
   ]
  },
  {
   "cell_type": "markdown",
   "metadata": {},
   "source": [
    "#### 20. How would you write a regex that match a number with comma for every three digits? It must match the given following:\n",
    "'42'\n",
    "'1,234'\n",
    "'6,368,745'\n",
    "but not the following:\n",
    "'12,34,567' (which has only two digits between the commas)\n",
    "'1234' (which lacks commas)\n",
    "\n",
    "#### Ans.\n",
    "\n",
    "pattern=re.compile(r\"^\\d+(,\\d{3})*$\")"
   ]
  },
  {
   "cell_type": "markdown",
   "metadata": {},
   "source": [
    "#### 21. How would you write a regex that matches the full name of someone whose last name is Watanabe? You can assume that the first name that comes before it will always be one word that begins with a capital letter. The regex must match the following:\n",
    "'Haruto Watanabe'\n",
    "'Alice Watanabe'\n",
    "'RoboCop Watanabe'\n",
    "but not the following:\n",
    "'haruto Watanabe' (where the first name is not capitalized)\n",
    "'Mr. Watanabe' (where the preceding word has a nonletter character)\n",
    "'Watanabe' (which has no first name)\n",
    "'Haruto watanabe' (where Watanabe is not capitalized)\n",
    "\n",
    "#### Ans.\n",
    "\n",
    "import re\n",
    "S='''Haruto Watanabe\n",
    "Alice Watanabe\n",
    "RoboCop Watanabe\n",
    "haruto Watanabe\n",
    "Mr. Watanabe\n",
    "Watanabe\n",
    "Haruto watanabe'''\n",
    "pattern=re.compile(r'[A-Z]\\w+[ ]Watanabe')\n",
    "result=pattern.finditer(S)\n",
    "for i in result:\n",
    "    print(i.group())"
   ]
  },
  {
   "cell_type": "markdown",
   "metadata": {},
   "source": [
    "#### 22. How would you write a regex that matches a sentence where the first word is either Alice, Bob, or Carol; the second word is either eats, pets, or throws; the third word is apples, cats, or baseballs; and the sentence ends with a period? This regex should be case-insensitive. It must match the following:\n",
    "'Alice eats apples.'\n",
    "'Bob pets cats.'\n",
    "'Carol throws baseballs.'\n",
    "'Alice throws Apples.'\n",
    "'BOB EATS CATS.'\n",
    "but not the following:\n",
    "'RoboCop eats apples.'\n",
    "'ALICE THROWS FOOTBALLS.'\n",
    "'Carol eats 7 cats.'\n",
    "\n",
    "#### Ans,\n",
    "regex=re.compile(r'Alice|Bob|Carol\\seats|pets|throws\\sapples\\.|cats\\.|baseballs\\.',re.IGNORECASE)\n",
    "mo=regex.search(str)\n",
    "ma=mo.group()"
   ]
  }
 ],
 "metadata": {
  "kernelspec": {
   "display_name": "Python 3",
   "language": "python",
   "name": "python3"
  },
  "language_info": {
   "codemirror_mode": {
    "name": "ipython",
    "version": 3
   },
   "file_extension": ".py",
   "mimetype": "text/x-python",
   "name": "python",
   "nbconvert_exporter": "python",
   "pygments_lexer": "ipython3",
   "version": "3.8.5"
  }
 },
 "nbformat": 4,
 "nbformat_minor": 4
}
