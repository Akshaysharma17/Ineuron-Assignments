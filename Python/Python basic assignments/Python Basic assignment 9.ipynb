{
 "cells": [
  {
   "cell_type": "markdown",
   "metadata": {},
   "source": [
    "#### 1. To what does a relative path refer?\n",
    "#### Ans.\n",
    "\n",
    "It is the path of the file from the current working directory."
   ]
  },
  {
   "cell_type": "markdown",
   "metadata": {},
   "source": [
    "#### 2. What does an absolute path start with your operating system?\n",
    "\n",
    "#### Ans.\n",
    "\n",
    "Absolute path names start with a slash (/), the symbol representing the root directory. The path name /A/D/9 is the absolute path name for 9. The first slash (/) represents the /(root) directory, which is the starting place for the search. The remainder of the path name directs the search to A, then to D, and finally to 9."
   ]
  },
  {
   "cell_type": "markdown",
   "metadata": {},
   "source": [
    "#### 3. What do the functions os.getcwd() and os.chdir() do?\n",
    "\n",
    "#### Ans.\n",
    "\n",
    "os.getcwd(): This functions helps to get the current working directory.\n",
    "\n",
    "os.chdir(): This functions helps to change the current working directory."
   ]
  },
  {
   "cell_type": "markdown",
   "metadata": {},
   "source": [
    "#### 4. What are the . and .. folders?\n",
    "\n",
    "#### Ans.\n",
    "\n",
    "The . is the current directory, while .. signifies the parent directory.The .. is used to navigate up the hierarchy of the file system whereas the . is used to navigate towards down the hierarchy of the file system."
   ]
  },
  {
   "cell_type": "markdown",
   "metadata": {},
   "source": [
    "#### 5. In C:\\bacon\\eggs\\spam.txt, which part is the dir name, and which part is the base name?\n",
    "\n",
    "#### Ans.\n",
    "\n",
    "C:\\bacon\\eggs is the dir name, while spam.txt is the base name."
   ]
  },
  {
   "cell_type": "markdown",
   "metadata": {},
   "source": [
    "#### 6. What are the three “mode” arguments that can be passed to the open() function?\n",
    "\n",
    "#### Ans.\n",
    "\n",
    "The three “mode” arguments that can be passed to the open() function are:\n",
    "“ r “, for reading.\n",
    "“ w “, for writing.\n",
    "“ a “, for appending."
   ]
  },
  {
   "cell_type": "markdown",
   "metadata": {},
   "source": [
    "#### 7. What happens if an existing file is opened in write mode?\n",
    "\n",
    "#### Ans.\n",
    "\n",
    "If an existing file is opened in write mode, its contents will be discarded and the file is treated as a new empty file. "
   ]
  },
  {
   "cell_type": "markdown",
   "metadata": {},
   "source": [
    "#### 8. How do you tell the difference between read() and readlines()?\n",
    "\n",
    "#### Ans.\n",
    "\n",
    "read(n) functions reads and returns a string of n characters, or the entire file as a single string if n is not provided.\n",
    "\n",
    "readlines(n) function returns a list of strings, each representing a single line of the file. If n is not provided then all lines of the file are returned. If n is provided then n characters are read but n is rounded up so that an entire line is returned. "
   ]
  },
  {
   "cell_type": "markdown",
   "metadata": {},
   "source": [
    "#### 9. What data structure does a shelf value resemble?\n",
    "\n",
    "#### Ans.\n",
    "\n",
    "A shelf value resembles a dictionary value; it has keys and values, along with keys() and values() methods that work similarly to the dictionary methods of the same names."
   ]
  }
 ],
 "metadata": {
  "kernelspec": {
   "display_name": "Python 3",
   "language": "python",
   "name": "python3"
  },
  "language_info": {
   "codemirror_mode": {
    "name": "ipython",
    "version": 3
   },
   "file_extension": ".py",
   "mimetype": "text/x-python",
   "name": "python",
   "nbconvert_exporter": "python",
   "pygments_lexer": "ipython3",
   "version": "3.8.5"
  }
 },
 "nbformat": 4,
 "nbformat_minor": 4
}
