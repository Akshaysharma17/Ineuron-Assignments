{
 "cells": [
  {
   "cell_type": "markdown",
   "metadata": {},
   "source": [
    "1. Write a Python program to print \"Hello Python\"?"
   ]
  },
  {
   "cell_type": "code",
   "execution_count": 1,
   "metadata": {},
   "outputs": [
    {
     "name": "stdout",
     "output_type": "stream",
     "text": [
      "Hello Python\n"
     ]
    }
   ],
   "source": [
    "##Ans.\n",
    "\n",
    "c=\"Hello Python\"\n",
    "print(c)"
   ]
  },
  {
   "cell_type": "markdown",
   "metadata": {},
   "source": [
    "2. Write a Python program to do arithmetical operations addition and division.?"
   ]
  },
  {
   "cell_type": "code",
   "execution_count": 13,
   "metadata": {},
   "outputs": [
    {
     "name": "stdout",
     "output_type": "stream",
     "text": [
      "One number is 20 and second number is 10\n",
      "Addition of these numbers are  30\n",
      "Subtraction of these numbers are  10\n"
     ]
    }
   ],
   "source": [
    "##Ans.\n",
    "\n",
    "a=20\n",
    "b=10\n",
    "\n",
    "c=a+b\n",
    "d=a-b\n",
    "\n",
    "print(\"One number is {} and second number is {}\".format(a, b))\n",
    "print(\"Addition of these numbers are \",c)\n",
    "print(\"Subtraction of these numbers are \",d)"
   ]
  },
  {
   "cell_type": "markdown",
   "metadata": {},
   "source": [
    "3. Write a Python program to find the area of a triangle?"
   ]
  },
  {
   "cell_type": "code",
   "execution_count": 29,
   "metadata": {},
   "outputs": [
    {
     "name": "stdout",
     "output_type": "stream",
     "text": [
      "Please enter lenght of base of a triangle: 20\n",
      "Enter height of a triangle: 10\n",
      "Area of a traingle is  100.0\n"
     ]
    }
   ],
   "source": [
    "##Ans.\n",
    "\n",
    "b=int(input(\"Please enter lenght of base of a triangle: \"))\n",
    "h=int(input(\"Enter height of a triangle: \"))\n",
    "a=(b*h)/2\n",
    "print(\"Area of a triangle is \", a)"
   ]
  },
  {
   "cell_type": "markdown",
   "metadata": {},
   "source": [
    "4. Write a Python program to swap two variables?"
   ]
  },
  {
   "cell_type": "code",
   "execution_count": 35,
   "metadata": {},
   "outputs": [
    {
     "name": "stdout",
     "output_type": "stream",
     "text": [
      "Enter first number: 10\n",
      "Enter second number: 15\n",
      "**Number before swapping**\n",
      "Number 1 = 10 and number 2 = 15\n",
      "**Numbers after swapping**\n",
      "Number 1 = 15 and number 2 = 10\n"
     ]
    }
   ],
   "source": [
    "##Ans.\n",
    "\n",
    "a=int(input(\"Enter first number: \"))\n",
    "b=int(input(\"Enter second number: \"))\n",
    "\n",
    "print(\"**Number before swapping**\")\n",
    "print(\"Number 1 = {} and number 2 = {}\".format(a,b))\n",
    "temp=a\n",
    "a=b\n",
    "b=temp\n",
    "\n",
    "print(\"**Numbers after swapping**\")\n",
    "print(\"Number 1 = {} and number 2 = {}\".format(a,b))\n",
    "\n"
   ]
  },
  {
   "cell_type": "markdown",
   "metadata": {},
   "source": [
    "5. Write a Python program to generate a random number?"
   ]
  },
  {
   "cell_type": "code",
   "execution_count": 52,
   "metadata": {},
   "outputs": [
    {
     "name": "stdout",
     "output_type": "stream",
     "text": [
      "Random number is  1\n"
     ]
    }
   ],
   "source": [
    "import random\n",
    "a=50\n",
    "b=random.randrange(a)\n",
    "print('Random number is ', b)"
   ]
  }
 ],
 "metadata": {
  "kernelspec": {
   "display_name": "Python 3",
   "language": "python",
   "name": "python3"
  },
  "language_info": {
   "codemirror_mode": {
    "name": "ipython",
    "version": 3
   },
   "file_extension": ".py",
   "mimetype": "text/x-python",
   "name": "python",
   "nbconvert_exporter": "python",
   "pygments_lexer": "ipython3",
   "version": "3.8.5"
  }
 },
 "nbformat": 4,
 "nbformat_minor": 4
}
