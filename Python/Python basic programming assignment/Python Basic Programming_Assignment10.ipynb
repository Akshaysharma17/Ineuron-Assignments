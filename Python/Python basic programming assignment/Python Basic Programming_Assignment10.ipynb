{
 "cells": [
  {
   "cell_type": "markdown",
   "metadata": {},
   "source": [
    "#### 1. Write a Python program to find sum of elements in list?"
   ]
  },
  {
   "cell_type": "code",
   "execution_count": 4,
   "metadata": {},
   "outputs": [
    {
     "name": "stdout",
     "output_type": "stream",
     "text": [
      "Enter list of numbers separated by spaces in between: 12 63 69 25 45 87 96 223 6\n",
      "Sum of all elements in given list:  626\n"
     ]
    }
   ],
   "source": [
    "total = 0\n",
    " \n",
    "list1 = list(map(int,input(\"Enter list of numbers separated by spaces in between: \").rstrip().split()))\n",
    "\n",
    "for ele in range(0, len(list1)):\n",
    "    total = total + list1[ele]\n",
    " \n",
    "# printing total value\n",
    "print(\"Sum of all elements in given list: \", total)"
   ]
  },
  {
   "cell_type": "markdown",
   "metadata": {},
   "source": [
    "#### 2. Write a Python program to Multiply all numbers in the list?"
   ]
  },
  {
   "cell_type": "code",
   "execution_count": 5,
   "metadata": {},
   "outputs": [
    {
     "name": "stdout",
     "output_type": "stream",
     "text": [
      "Enter list of numbers separated by spaces in between: 2 3 6\n",
      "36\n"
     ]
    }
   ],
   "source": [
    "def multiplyList(myList) :\n",
    "     \n",
    "    # Multiply elements one by one\n",
    "    result = 1\n",
    "    for x in myList:\n",
    "         result = result * x\n",
    "    return result\n",
    "     \n",
    "list1 = list(map(int,input(\"Enter list of numbers separated by spaces in between: \").rstrip().split()))\n",
    "print(multiplyList(list1))"
   ]
  },
  {
   "cell_type": "markdown",
   "metadata": {},
   "source": [
    "#### 3. Write a Python program to find smallest number in a list?"
   ]
  },
  {
   "cell_type": "code",
   "execution_count": 7,
   "metadata": {},
   "outputs": [
    {
     "name": "stdout",
     "output_type": "stream",
     "text": [
      "Enter list of numbers separated by spaces in between: 12 63 63 95 4 23 41 5\n",
      "Smallest element is: 4\n"
     ]
    }
   ],
   "source": [
    "list1 = list(map(int,input(\"Enter list of numbers separated by spaces in between: \").rstrip().split()))\n",
    " \n",
    "# sorting the list\n",
    "list1.sort()\n",
    " \n",
    "# printing the first element\n",
    "print(\"Smallest element is:\", *list1[:1])"
   ]
  },
  {
   "cell_type": "markdown",
   "metadata": {},
   "source": [
    "#### 4. Write a Python program to find largest number in a list?"
   ]
  },
  {
   "cell_type": "code",
   "execution_count": 15,
   "metadata": {},
   "outputs": [
    {
     "name": "stdout",
     "output_type": "stream",
     "text": [
      "Enter list of numbers separated by spaces in between: 2 16 53 23 56 565\n",
      "Largest element is: 565\n"
     ]
    }
   ],
   "source": [
    "list1 = list(map(int,input(\"Enter list of numbers separated by spaces in between: \").rstrip().split()))\n",
    " \n",
    "list1.sort()\n",
    "n=len(list1)\n",
    " \n",
    "# printing the first element\n",
    "print(\"Largest element is:\", *list1[n-1:])"
   ]
  },
  {
   "cell_type": "markdown",
   "metadata": {},
   "source": [
    "#### 5. Write a Python program to find second largest number in a list?"
   ]
  },
  {
   "cell_type": "code",
   "execution_count": 19,
   "metadata": {},
   "outputs": [
    {
     "name": "stdout",
     "output_type": "stream",
     "text": [
      "Enter list of numbers separated by spaces in between: 55 231 321 321 36 96 44 88\n",
      "Second largest element is: 321\n"
     ]
    }
   ],
   "source": [
    "list1 = list(map(int,input(\"Enter list of numbers separated by spaces in between: \").rstrip().split()))\n",
    " \n",
    "list1.sort()\n",
    "n=len(list1)\n",
    " \n",
    "# printing the first element\n",
    "print(\"Second largest element is:\", *list1[n-2:n-1])"
   ]
  },
  {
   "cell_type": "markdown",
   "metadata": {},
   "source": [
    "#### 6. Write a Python program to find N largest elements from a list?"
   ]
  },
  {
   "cell_type": "code",
   "execution_count": 22,
   "metadata": {},
   "outputs": [
    {
     "name": "stdout",
     "output_type": "stream",
     "text": [
      "Enter list of numbers separated by spaces in between: 23 63 96 41 154 12 36 369\n",
      "Enter number of largest numbers you want to see: 3\n",
      "[369, 154, 96]\n"
     ]
    }
   ],
   "source": [
    "def Nmaxelements(list1, N):\n",
    "    final_list = []\n",
    "  \n",
    "    for i in range(0, N): \n",
    "        max1 = 0\n",
    "          \n",
    "        for j in range(len(list1)):     \n",
    "            if list1[j] > max1:\n",
    "                max1 = list1[j];\n",
    "                  \n",
    "        list1.remove(max1);\n",
    "        final_list.append(max1)\n",
    "          \n",
    "    print(final_list)\n",
    "\n",
    "list1 = list(map(int,input(\"Enter list of numbers separated by spaces in between: \").rstrip().split()))\n",
    "N = int(input(\"Enter number of largest numbers you want to see: \"))\n",
    "Nmaxelements(list1, N)"
   ]
  },
  {
   "cell_type": "markdown",
   "metadata": {},
   "source": [
    "#### 7. Write a Python program to print even numbers in a list?"
   ]
  },
  {
   "cell_type": "code",
   "execution_count": 23,
   "metadata": {},
   "outputs": [
    {
     "name": "stdout",
     "output_type": "stream",
     "text": [
      "Enter list of numbers separated by spaces in between: 2 36 35 21 26 36 96 854 52 515 51\n",
      "2 36 26 36 96 854 52 "
     ]
    }
   ],
   "source": [
    "list1 = list(map(int,input(\"Enter list of numbers separated by spaces in between: \").rstrip().split()))\n",
    " \n",
    "# iterating each number in list\n",
    "for num in list1:\n",
    " \n",
    "    # checking condition\n",
    "    if num % 2 == 0:\n",
    "        print(num, end=\" \")"
   ]
  },
  {
   "cell_type": "markdown",
   "metadata": {},
   "source": [
    "#### 8. Write a Python program to print odd numbers in a List?"
   ]
  },
  {
   "cell_type": "code",
   "execution_count": 24,
   "metadata": {},
   "outputs": [
    {
     "name": "stdout",
     "output_type": "stream",
     "text": [
      "Enter list of numbers separated by spaces in between: 2 36 35 21 26 36 96 854 52 515 51\n",
      "35 21 515 51 "
     ]
    }
   ],
   "source": [
    "list1 = list(map(int,input(\"Enter list of numbers separated by spaces in between: \").rstrip().split()))\n",
    "  \n",
    "# iterating each number in list\n",
    "for num in list1:\n",
    "      \n",
    "    # checking condition\n",
    "    if num % 2 != 0:\n",
    "       print(num, end = \" \")"
   ]
  },
  {
   "cell_type": "markdown",
   "metadata": {},
   "source": [
    "#### 9. Write a Python program to Remove empty List from List?"
   ]
  },
  {
   "cell_type": "code",
   "execution_count": 28,
   "metadata": {},
   "outputs": [
    {
     "name": "stdout",
     "output_type": "stream",
     "text": [
      "The original list is : [5, 6, [], 3, [], [], 9]\n",
      "List after empty list removal : [5, 6, 3, 9]\n"
     ]
    }
   ],
   "source": [
    "test_list = [5, 6, [], 3, [], [], 9]\n",
    "  \n",
    "# printing original list \n",
    "print(\"The original list is : \" + str(test_list))\n",
    "  \n",
    "# Remove empty List from List\n",
    "# using filter\n",
    "res = list(filter(None, test_list))\n",
    "  \n",
    "# printing result \n",
    "print (\"List after empty list removal : \" + str(res))"
   ]
  },
  {
   "cell_type": "markdown",
   "metadata": {},
   "source": [
    "#### 10. Write a Python program to Cloning or Copying a list?"
   ]
  },
  {
   "cell_type": "code",
   "execution_count": 29,
   "metadata": {},
   "outputs": [
    {
     "name": "stdout",
     "output_type": "stream",
     "text": [
      "Enter list of numbers separated by spaces in between: 2 36 362 21 25 6 5 56\n",
      "Original List: [2, 36, 362, 21, 25, 6, 5, 56]\n",
      "After Cloning: [2, 36, 362, 21, 25, 6, 5, 56]\n"
     ]
    }
   ],
   "source": [
    "def Cloning(li1):\n",
    "    li_copy = li1[:]\n",
    "    return li_copy\n",
    "  \n",
    "# Driver Code\n",
    "li1 = list(map(int,input(\"Enter list of numbers separated by spaces in between: \").rstrip().split()))\n",
    "li2 = Cloning(li1)\n",
    "print(\"Original List:\", li1)\n",
    "print(\"After Cloning:\", li2)"
   ]
  },
  {
   "cell_type": "markdown",
   "metadata": {},
   "source": [
    "#### 11. Write a Python program to Count occurrences of an element in a list?"
   ]
  },
  {
   "cell_type": "code",
   "execution_count": 31,
   "metadata": {},
   "outputs": [
    {
     "name": "stdout",
     "output_type": "stream",
     "text": [
      "Enter list of numbers separated by spaces in between: 2 6 9 5 2 5 1 5 9 2 3 2 5 2 6 2 6 1 5\n",
      "Enter the you want to search: 2\n",
      "2 has occurred 6 times\n"
     ]
    }
   ],
   "source": [
    "def countX(lst, x):\n",
    "    count = 0\n",
    "    for ele in lst:\n",
    "        if (ele == x):\n",
    "            count = count + 1\n",
    "    return count\n",
    " \n",
    "\n",
    "lst = list(map(int,input(\"Enter list of numbers separated by spaces in between: \").rstrip().split()))\n",
    "x = int(input(\"Enter the you want to search: \"))\n",
    "print('{} has occurred {} times'.format(x, countX(lst, x)))"
   ]
  }
 ],
 "metadata": {
  "kernelspec": {
   "display_name": "Python 3",
   "language": "python",
   "name": "python3"
  },
  "language_info": {
   "codemirror_mode": {
    "name": "ipython",
    "version": 3
   },
   "file_extension": ".py",
   "mimetype": "text/x-python",
   "name": "python",
   "nbconvert_exporter": "python",
   "pygments_lexer": "ipython3",
   "version": "3.8.5"
  }
 },
 "nbformat": 4,
 "nbformat_minor": 4
}
