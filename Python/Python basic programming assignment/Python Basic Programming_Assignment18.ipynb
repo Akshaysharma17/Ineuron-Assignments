{
 "cells": [
  {
   "cell_type": "markdown",
   "metadata": {},
   "source": [
    "Question 1\n",
    "Create a function that takes a list of non-negative integers and strings and return a new list without the strings.\n",
    "Examples\n",
    "filter_list([1, 2, \"a\", \"b\"]) ➞ [1, 2]\n",
    "\n",
    "filter_list([1, \"a\", \"b\", 0, 15]) ➞ [1, 0, 15]\n",
    "\n",
    "filter_list([1, 2, \"aasf\", \"1\", \"123\", 123]) ➞ [1, 2, 123]"
   ]
  },
  {
   "cell_type": "code",
   "execution_count": 22,
   "metadata": {},
   "outputs": [
    {
     "name": "stdout",
     "output_type": "stream",
     "text": [
      "Enter values of list separated by space: 1 a b 0 15\n",
      "[1, 0, 15]\n"
     ]
    }
   ],
   "source": [
    "def filter_list(list):\n",
    "    i=0\n",
    "    while i<len(list):\n",
    "        if type(list[i])==int:\n",
    "            i+=1\n",
    "        else:\n",
    "            if list[i].isalpha():\n",
    "                list.remove(list[i])\n",
    "            elif list[i].isdigit():\n",
    "                list[i]=int(list[i])\n",
    "                i+=1\n",
    "    return list\n",
    "inp=input(\"Enter values of list separated by space: \")\n",
    "a = [int(i) if i.isdigit() else i for i in inp.split()]\n",
    "print(filter_list(a))"
   ]
  },
  {
   "cell_type": "markdown",
   "metadata": {},
   "source": [
    "Question 2\n",
    "The \"Reverser\" takes a string as input and returns that string in reverse order, with the opposite case.\n",
    "Examples\n",
    "reverse(\"Hello World\") ➞ \"DLROw OLLEh\"\n",
    "\n",
    "reverse(\"ReVeRsE\") ➞ \"eSrEvEr\"\n",
    "\n",
    "reverse(\"Radar\") ➞ \"RADAr\""
   ]
  },
  {
   "cell_type": "code",
   "execution_count": 42,
   "metadata": {},
   "outputs": [
    {
     "name": "stdout",
     "output_type": "stream",
     "text": [
      "Hello World\n",
      "DLROw OLLEh\n"
     ]
    }
   ],
   "source": [
    "def reverser(str):\n",
    "    s=list(str)\n",
    "    for i in range(len(s)):\n",
    "        if s[i].islower():\n",
    "            s[i]=s[i].upper()\n",
    "        elif s[i].isupper():\n",
    "            s[i]=s[i].lower()\n",
    "        else:\n",
    "            pass\n",
    "    s.reverse()\n",
    "    print(\"\".join(s))\n",
    "a=input()\n",
    "reverser(a)"
   ]
  },
  {
   "cell_type": "markdown",
   "metadata": {},
   "source": [
    "Question 3\n",
    "You can assign variables from lists like this:\n",
    "lst = [1, 2, 3, 4, 5, 6]\n",
    "first = lst[0]\n",
    "middle = lst[1:-1]\n",
    "last = lst[-1]\n",
    "\n",
    "print(first) ➞ outputs 1\n",
    "print(middle) ➞ outputs [2, 3, 4, 5]\n",
    "print(last) ➞ outputs 6\n",
    "With Python 3, you can assign variables from lists in a much more succinct way. Create variables first, middle and last from the given list using destructuring assignment (check the Resources tab for some examples), where:\n",
    "first  ➞ 1\n",
    "\n",
    "middle ➞ [2, 3, 4, 5]\n",
    "\n",
    "last ➞ 6\n",
    "Your task is to unpack the list writeyourcodehere into three variables, being first, middle, and last, with middle being everything in between the first and last element. Then print all three variables.\n"
   ]
  },
  {
   "cell_type": "code",
   "execution_count": 44,
   "metadata": {},
   "outputs": [
    {
     "name": "stdout",
     "output_type": "stream",
     "text": [
      "12 45 78 2 3 6 5 8 9 4 4 2\n",
      "First  ➞ 12\n",
      "Middle   ➞ [45, 78, 2, 3, 6, 5, 8, 9, 4, 4]\n",
      "Last  ➞ 2\n"
     ]
    }
   ],
   "source": [
    "a=list(map(int,input().rstrip().split()))\n",
    "first=a[0]\n",
    "middle=a[1:-1]\n",
    "last=a[-1]\n",
    "print(\"First  ➞ %s\\nMiddle   ➞ %s\\nLast  ➞ %s\"%(first,middle,last))"
   ]
  },
  {
   "cell_type": "markdown",
   "metadata": {},
   "source": [
    "Question 4\n",
    "Write a function that calculates the factorial of a number recursively.\n",
    "Examples\n",
    "factorial(5) ➞ 120\n",
    "\n",
    "factorial(3) ➞ 6\n",
    "\n",
    "factorial(1) ➞ 1\n",
    "\n",
    "factorial(0) ➞ 1"
   ]
  },
  {
   "cell_type": "code",
   "execution_count": 48,
   "metadata": {},
   "outputs": [
    {
     "name": "stdout",
     "output_type": "stream",
     "text": [
      "Enter number: 5\n",
      "120\n"
     ]
    }
   ],
   "source": [
    "def factorial(n): \n",
    "    a=1\n",
    "    b=1\n",
    "    if n==0:\n",
    "        return a\n",
    "    else:\n",
    "        return n*factorial(n-1)\n",
    "n=int(input(\"Enter number: \"))\n",
    "print(factorial(n))"
   ]
  },
  {
   "cell_type": "markdown",
   "metadata": {},
   "source": [
    "Question 5\n",
    "Write a function that moves all elements of one type to the end of the list.\n",
    "Examples\n",
    "move_to_end([1, 3, 2, 4, 4, 1], 1) ➞ [3, 2, 4, 4, 1, 1]\n",
    "Move all the 1s to the end of the array.\n",
    "\n",
    "move_to_end([7, 8, 9, 1, 2, 3, 4], 9) ➞ [7, 8, 1, 2, 3, 4, 9]\n",
    "\n",
    "move_to_end([\"a\", \"a\", \"a\", \"b\"], \"a\") ➞ [\"b\", \"a\", \"a\", \"a\"]"
   ]
  },
  {
   "cell_type": "code",
   "execution_count": 60,
   "metadata": {},
   "outputs": [
    {
     "name": "stdout",
     "output_type": "stream",
     "text": [
      "enter values of list seprated with space 7 8 9 1 2 a a c w  1 2 1 25 \n",
      "enter element to search in list: a\n",
      "[7, 8, 9, 1, 2, 'c', 'w', 1, 2, 1, 25, 'a', 'a']\n"
     ]
    }
   ],
   "source": [
    "def move_to_end(list,k):\n",
    "    list1=[]\n",
    "    i=0\n",
    "    while i<len(list):\n",
    "        if list[i]==k:\n",
    "            list1.append(list[i])\n",
    "            list.remove(list[i])\n",
    "        else:\n",
    "            i+=1\n",
    "    list2=list+list1\n",
    "    return list2\n",
    "a=input(\"enter values of list seprated with space \")\n",
    "b=input(\"enter element to search in list: \")\n",
    "b=int(b) if b.isdigit() else b\n",
    "a=[int(i) if i.isdigit() else i for i in a.split()]\n",
    "print(move_to_end(a,b))"
   ]
  }
 ],
 "metadata": {
  "kernelspec": {
   "display_name": "Python 3",
   "language": "python",
   "name": "python3"
  },
  "language_info": {
   "codemirror_mode": {
    "name": "ipython",
    "version": 3
   },
   "file_extension": ".py",
   "mimetype": "text/x-python",
   "name": "python",
   "nbconvert_exporter": "python",
   "pygments_lexer": "ipython3",
   "version": "3.8.5"
  }
 },
 "nbformat": 4,
 "nbformat_minor": 4
}
