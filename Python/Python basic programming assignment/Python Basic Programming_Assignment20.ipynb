{
 "cells": [
  {
   "cell_type": "markdown",
   "metadata": {},
   "source": [
    "Question1\n",
    "Create a function that takes a list of strings and integers, and filters out the list so that it\n",
    "returns a list of integers only.\n",
    "Examples\n",
    "filter_list([1, 2, 3, &quot;a&quot;, &quot;b&quot;, 4]) ➞ [1, 2, 3, 4]\n",
    "filter_list([&quot;A&quot;, 0, &quot;Edabit&quot;, 1729, &quot;Python&quot;, &quot;1729&quot;]) ➞ [0, 1729]\n",
    "filter_list([&quot;Nothing&quot;, &quot;here&quot;]) ➞ []\n",
    "\n",
    "\n",
    "\n",
    "\n",
    "\n",
    "\n"
   ]
  },
  {
   "cell_type": "code",
   "execution_count": 10,
   "metadata": {},
   "outputs": [
    {
     "name": "stdout",
     "output_type": "stream",
     "text": [
      "Enter values of list separated by space: A 0 Edabit 1729 Python 1729\n",
      "[0, 1729]\n"
     ]
    }
   ],
   "source": [
    "def filter_list(list):\n",
    "    i=0\n",
    "    list1=[]\n",
    "    while i<len(list):\n",
    "        if type(list[i])==int:\n",
    "            if list[i] not in list1:\n",
    "                list1.append(list[i])\n",
    "                i+=1\n",
    "            else:\n",
    "                i+=1        \n",
    "        else:\n",
    "            i+=1\n",
    "    return list1\n",
    "            \n",
    "n=input(\"Enter values of list separated by space: \")\n",
    "n=[int(n) if n.isdigit() else n for n in n.rstrip().split()]\n",
    "print(filter_list(n))"
   ]
  },
  {
   "cell_type": "markdown",
   "metadata": {},
   "source": [
    "Question2\n",
    "Given a list of numbers, create a function which returns the list but with each element&#39;s\n",
    "index in the list added to itself. This means you add 0 to the number at index 0, add 1 to the\n",
    "number at index 1, etc...\n",
    "Examples\n",
    "add_indexes([0, 0, 0, 0, 0]) ➞ [0, 1, 2, 3, 4]\n",
    "add_indexes([1, 2, 3, 4, 5]) ➞ [1, 3, 5, 7, 9]\n",
    "add_indexes([5, 4, 3, 2, 1]) ➞ [5, 5, 5, 5, 5]"
   ]
  },
  {
   "cell_type": "code",
   "execution_count": 14,
   "metadata": {},
   "outputs": [
    {
     "name": "stdout",
     "output_type": "stream",
     "text": [
      "5 4 3 2 1\n",
      "[5, 5, 5, 5, 5]\n"
     ]
    }
   ],
   "source": [
    "def add_indexes(list):\n",
    "    list1=[]\n",
    "    for i in range(len(list)):\n",
    "        list1.append(list[i]+i)\n",
    "    return list1\n",
    "n=list(map(int,input().rstrip().rsplit()))\n",
    "print(add_indexes(n))"
   ]
  },
  {
   "cell_type": "markdown",
   "metadata": {},
   "source": [
    "Question3\n",
    "Create a function that takes the height and radius of a cone as arguments and returns the\n",
    "volume of the cone rounded to the nearest hundredth. See the resources tab for the formula.\n",
    "\n",
    "Examples\n",
    "cone_volume(3, 2) ➞ 12.57\n",
    "\n",
    "cone_volume(15, 6) ➞ 565.49\n",
    "cone_volume(18, 0) ➞ 0"
   ]
  },
  {
   "cell_type": "code",
   "execution_count": 21,
   "metadata": {},
   "outputs": [
    {
     "name": "stdout",
     "output_type": "stream",
     "text": [
      "Enter height of the cone: 15\n",
      "Enter radius of the cone: 6\n",
      "565.49\n"
     ]
    }
   ],
   "source": [
    "def cone_volume(h,r):\n",
    "    result=round(3.141592653589*(r**2)*(h/3),2)\n",
    "    return result\n",
    "h=int(input(\"Enter height of the cone: \"))\n",
    "r=int(input(\"Enter radius of the cone: \"))\n",
    "print(cone_volume(h,r))"
   ]
  },
  {
   "cell_type": "markdown",
   "metadata": {},
   "source": [
    "Question4\n",
    "This Triangular Number Sequence is generated from a pattern of dots that form a triangle.\n",
    "The first 5 numbers of the sequence, or dots, are:\n",
    "1, 3, 6, 10, 15\n",
    "This means that the first triangle has just one dot, the second one has three dots, the third one\n",
    "has 6 dots and so on.\n",
    "Write a function that gives the number of dots with its corresponding triangle number of the\n",
    "sequence.\n",
    "Examples\n",
    "triangle(1) ➞ 1\n",
    "triangle(6) ➞ 21\n",
    "triangle(215) ➞ 23220"
   ]
  },
  {
   "cell_type": "code",
   "execution_count": 8,
   "metadata": {},
   "outputs": [
    {
     "name": "stdout",
     "output_type": "stream",
     "text": [
      "Enter the number of triangles: 6\n",
      "21\n"
     ]
    }
   ],
   "source": [
    "def triangle(n):\n",
    "    dots=(n*(n+1))/2\n",
    "    return int(dots)\n",
    "n=int(input(\"Enter the number of triangles: \"))\n",
    "print(triangle(n))"
   ]
  },
  {
   "cell_type": "markdown",
   "metadata": {},
   "source": [
    "\n",
    "Question5\n",
    "Create a function that takes a list of numbers between 1 and 10 (excluding one number) and\n",
    "returns the missing number.\n",
    "Examples\n",
    "missing_num([1, 2, 3, 4, 6, 7, 8, 9, 10]) ➞ 5\n",
    "missing_num([7, 2, 3, 6, 5, 9, 1, 4, 8]) ➞ 10\n",
    "missing_num([10, 5, 1, 2, 4, 6, 8, 3, 9]) ➞ 7"
   ]
  },
  {
   "cell_type": "code",
   "execution_count": 5,
   "metadata": {},
   "outputs": [
    {
     "name": "stdout",
     "output_type": "stream",
     "text": [
      "Enter space separated list values: 10, 5, 1, 2, 4, 6, 8, 3, 9\n",
      "7\n"
     ]
    }
   ],
   "source": [
    "def missing_num(list):\n",
    "    li=[]\n",
    "    for i in range(1,11):\n",
    "        if i not in list:\n",
    "            li.append(i)\n",
    "        else:\n",
    "            pass\n",
    "    print(*li)\n",
    "n=list(map(int,input(\"Enter space separated list values: \").split(\",\")))\n",
    "missing_num(n)"
   ]
  }
 ],
 "metadata": {
  "kernelspec": {
   "display_name": "Python 3",
   "language": "python",
   "name": "python3"
  },
  "language_info": {
   "codemirror_mode": {
    "name": "ipython",
    "version": 3
   },
   "file_extension": ".py",
   "mimetype": "text/x-python",
   "name": "python",
   "nbconvert_exporter": "python",
   "pygments_lexer": "ipython3",
   "version": "3.8.5"
  }
 },
 "nbformat": 4,
 "nbformat_minor": 4
}
