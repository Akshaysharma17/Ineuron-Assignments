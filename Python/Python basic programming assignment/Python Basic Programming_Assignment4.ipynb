{
 "cells": [
  {
   "cell_type": "markdown",
   "metadata": {},
   "source": [
    "1. Write a Python Program to Find the Factorial of a Number?"
   ]
  },
  {
   "cell_type": "code",
   "execution_count": 2,
   "metadata": {},
   "outputs": [
    {
     "name": "stdout",
     "output_type": "stream",
     "text": [
      "Enter the number whose factorial you wanted to search: 10\n",
      "Factorial of 10 is 3628800\n"
     ]
    }
   ],
   "source": [
    "n=int(input('Enter the number whose factorial you wanted to search: '))\n",
    "temp=1\n",
    "for i in range(1,n+1):\n",
    "    temp=temp*i\n",
    "\n",
    "print(\"Factorial of {} is {}\".format(n,temp))"
   ]
  },
  {
   "cell_type": "markdown",
   "metadata": {},
   "source": [
    "2. Write a Python Program to Display the multiplication Table?"
   ]
  },
  {
   "cell_type": "code",
   "execution_count": 7,
   "metadata": {},
   "outputs": [
    {
     "name": "stdout",
     "output_type": "stream",
     "text": [
      "Enter any number : 50\n",
      "50 X 1 = 50\n",
      "50 X 2 = 100\n",
      "50 X 3 = 150\n",
      "50 X 4 = 200\n",
      "50 X 5 = 250\n",
      "50 X 6 = 300\n",
      "50 X 7 = 350\n",
      "50 X 8 = 400\n",
      "50 X 9 = 450\n",
      "50 X 10 = 500\n"
     ]
    }
   ],
   "source": [
    "n=int(input('Enter any number : '))\n",
    "temp=1\n",
    "\n",
    "for i in range(1,11):\n",
    "    temp=n*i\n",
    "    print('{} X {} = {}'.format(n,i,temp))\n"
   ]
  },
  {
   "cell_type": "markdown",
   "metadata": {},
   "source": [
    "3. Write a Python Program to Print the Fibonacci sequence?"
   ]
  },
  {
   "cell_type": "code",
   "execution_count": 11,
   "metadata": {},
   "outputs": [
    {
     "name": "stdout",
     "output_type": "stream",
     "text": [
      "Enter any number : 10\n",
      "0\n",
      "1\n",
      "1\n",
      "2\n",
      "3\n",
      "5\n",
      "8\n",
      "13\n",
      "21\n",
      "34\n",
      "55\n",
      "89\n",
      "144\n"
     ]
    }
   ],
   "source": [
    "n=int(input('Enter any number : '))\n",
    "\n",
    "a,b,c=0,1,1\n",
    "print(a)\n",
    "print(b)\n",
    "for i in range(0,n+1):\n",
    "    c=a+b\n",
    "    a=b\n",
    "    b=c\n",
    "    print(c)"
   ]
  },
  {
   "cell_type": "markdown",
   "metadata": {},
   "source": [
    "4. Write a Python Program to Check Armstrong Number?"
   ]
  },
  {
   "cell_type": "code",
   "execution_count": 10,
   "metadata": {},
   "outputs": [
    {
     "name": "stdout",
     "output_type": "stream",
     "text": [
      "Enter any number : 2\n",
      "It is a Armstrong number\n"
     ]
    }
   ],
   "source": [
    "n=int(input('Enter any number : '))\n",
    "s=str(n)\n",
    "l=len(s)\n",
    "copy=n\n",
    "sum1,temp=0,1\n",
    "while (n>0):\n",
    "    temp=n%10\n",
    "    sum1=(temp**l)+sum1\n",
    "    n=n//10\n",
    "if sum1==copy:\n",
    "    print(\"It is a Armstrong number\")\n",
    "else:\n",
    "    print(\"It is not a Armstrong number\")"
   ]
  },
  {
   "cell_type": "markdown",
   "metadata": {},
   "source": [
    "5. Write a Python Program to Find Armstrong Number in an Interval?"
   ]
  },
  {
   "cell_type": "code",
   "execution_count": 25,
   "metadata": {},
   "outputs": [
    {
     "name": "stdout",
     "output_type": "stream",
     "text": [
      "Enter any number : 10000\n",
      "1 is a Armstrong number\n",
      "2 is a Armstrong number\n",
      "3 is a Armstrong number\n",
      "4 is a Armstrong number\n",
      "5 is a Armstrong number\n",
      "6 is a Armstrong number\n",
      "7 is a Armstrong number\n",
      "8 is a Armstrong number\n",
      "9 is a Armstrong number\n",
      "153 is a Armstrong number\n",
      "370 is a Armstrong number\n",
      "371 is a Armstrong number\n",
      "407 is a Armstrong number\n",
      "1634 is a Armstrong number\n",
      "8208 is a Armstrong number\n",
      "9474 is a Armstrong number\n"
     ]
    }
   ],
   "source": [
    "n=int(input('Enter any number : '))\n",
    "\n",
    "for i in range(1,n+1):\n",
    "    s=str(i)\n",
    "    l=len(s)\n",
    "    copy,j=i,i\n",
    "    sum1,temp=0,1\n",
    "    while (j>0):\n",
    "        temp=j%10\n",
    "        sum1=(temp**l)+sum1\n",
    "        j=j//10\n",
    "    if sum1==copy:\n",
    "        print(\"{} is a Armstrong number\".format(sum1))\n",
    "    else:\n",
    "        pass"
   ]
  },
  {
   "cell_type": "markdown",
   "metadata": {},
   "source": [
    "6. Write a Python Program to Find the Sum of Natural Numbers?"
   ]
  },
  {
   "cell_type": "code",
   "execution_count": 29,
   "metadata": {},
   "outputs": [
    {
     "name": "stdout",
     "output_type": "stream",
     "text": [
      "Enter any number : 100\n",
      "The sum of natural numbers till 100 is 10116\n"
     ]
    }
   ],
   "source": [
    "n=int(input('Enter any number : '))\n",
    "temp-0\n",
    "if n>=0:\n",
    "    for i in range(0,n+1):\n",
    "        temp=temp+i\n",
    "    print(\"The sum of natural numbers till {} is {}\".format(n,temp))\n",
    "else:\n",
    "    print(\"It is not a natural number\")"
   ]
  }
 ],
 "metadata": {
  "kernelspec": {
   "display_name": "Python 3",
   "language": "python",
   "name": "python3"
  },
  "language_info": {
   "codemirror_mode": {
    "name": "ipython",
    "version": 3
   },
   "file_extension": ".py",
   "mimetype": "text/x-python",
   "name": "python",
   "nbconvert_exporter": "python",
   "pygments_lexer": "ipython3",
   "version": "3.8.5"
  }
 },
 "nbformat": 4,
 "nbformat_minor": 4
}
