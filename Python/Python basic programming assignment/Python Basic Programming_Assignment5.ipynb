{
 "cells": [
  {
   "cell_type": "markdown",
   "metadata": {},
   "source": [
    "1. Write a Python Program to Find LCM?"
   ]
  },
  {
   "cell_type": "code",
   "execution_count": 25,
   "metadata": {},
   "outputs": [
    {
     "name": "stdout",
     "output_type": "stream",
     "text": [
      "Enter first number5\n",
      "Enter second number3\n",
      "The LCM of 5 and 3 is 15\n"
     ]
    }
   ],
   "source": [
    "import math\n",
    "a=int(input('Enter first number'))\n",
    "b=int(input('Enter second number'))\n",
    "hcf=math.gcd(a,b)\n",
    "lcm=(a1*b1)//hcf\n",
    "print('The LCM of {} and {} is {}'.format(a,b,lcm))"
   ]
  },
  {
   "cell_type": "markdown",
   "metadata": {},
   "source": [
    "2. Write a Python Program to Find HCF?"
   ]
  },
  {
   "cell_type": "code",
   "execution_count": 26,
   "metadata": {},
   "outputs": [
    {
     "name": "stdout",
     "output_type": "stream",
     "text": [
      "Enter first number27\n",
      "Enter second number45\n",
      "The HCF of 27 and 45 is 9\n"
     ]
    }
   ],
   "source": [
    "import math\n",
    "a=int(input('Enter first number'))\n",
    "b=int(input('Enter second number'))\n",
    "hcf=math.gcd(a,b)\n",
    "print('The HCF of {} and {} is {}'.format(a,b,hcf))"
   ]
  },
  {
   "cell_type": "markdown",
   "metadata": {},
   "source": [
    "3. Write a Python Program to Convert Decimal to Binary, Octal and Hexadecimal?"
   ]
  },
  {
   "cell_type": "code",
   "execution_count": 11,
   "metadata": {},
   "outputs": [
    {
     "name": "stdout",
     "output_type": "stream",
     "text": [
      "Enter any number52\n",
      "Please choose your choice\n",
      "1. For Binary\n",
      "2. For Octal\n",
      "3. Hexadecimal\n",
      "Your choice1\n",
      "Coversion of 52 in Binary is 0b110100\n"
     ]
    }
   ],
   "source": [
    "n=int(input('Enter any number'))\n",
    "print('''Please choose your choice\n",
    "1. For Binary\n",
    "2. For Octal\n",
    "3. Hexadecimal''')\n",
    "c=int(input('Your choice'))\n",
    "if c==1:\n",
    "      print('Coversion of {} in Binary is {}'.format(n,bin(n)))\n",
    "elif c==2:\n",
    "      print('Coversion of {} in Octal is {}'.format(n,oct(n)))\n",
    "elif c==3:\n",
    "      print('Coversion of {} in Hexadecimal is {}'.format(n,hex(n)))\n",
    "else:\n",
    "      print('Wrong Choice')"
   ]
  },
  {
   "cell_type": "markdown",
   "metadata": {},
   "source": [
    "4. Write a Python Program To Find ASCII value of a character?"
   ]
  },
  {
   "cell_type": "code",
   "execution_count": 12,
   "metadata": {},
   "outputs": [
    {
     "name": "stdout",
     "output_type": "stream",
     "text": [
      "Enter any character: z\n",
      " The ASCII value of z is 122\n"
     ]
    }
   ],
   "source": [
    "s=input('Enter any character: ')\n",
    "l=len(s)\n",
    "if l==1:\n",
    "    print(' The ASCII value of {} is {}'.format(s,ord(s)))\n",
    "else:\n",
    "    print('Your input is not a character. Your input should be like a,r,C,t etc')"
   ]
  },
  {
   "cell_type": "markdown",
   "metadata": {},
   "source": [
    "5. Write a Python Program to Make a Simple Calculator with 4 basic mathematical operations?"
   ]
  },
  {
   "cell_type": "code",
   "execution_count": 8,
   "metadata": {},
   "outputs": [
    {
     "name": "stdout",
     "output_type": "stream",
     "text": [
      "Enter first large number: 47\n",
      "Enter small number: 7\n",
      "Select any one number for doing mathematical operation\n",
      "1. Addition          2. Substraction\n",
      "3.Division          4.Multiplication\n",
      "Your Choice: 2\n",
      "Substraction of 47 and 7 is 40\n"
     ]
    }
   ],
   "source": [
    "a=int(input('Enter first large number: '))\n",
    "b=int(input('Enter small number: '))\n",
    "temp=0\n",
    "print(\"\"\"Select any one number for doing mathematical operation\n",
    "1. Addition          2. Substraction\n",
    "3.Division          4.Multiplication\"\"\")\n",
    "c=int(input(\"Your Choice: \"))\n",
    "\n",
    "if c==1:\n",
    "    temp=a+b\n",
    "    print('Addition of {} and {} is {}'.format(a,b,temp))\n",
    "elif c==2:\n",
    "    temp=a-b\n",
    "    print('Substraction of {} and {} is {}'.format(a,b,temp))\n",
    "elif c==3:\n",
    "    temp=a/b\n",
    "    print('Division of {} and {} is {}'.format(a,b,temp))\n",
    "elif c==4:\n",
    "    temp=a*b\n",
    "    print('Multiplication of {} and {} is {}'.format(a,b,temp))\n",
    "else:\n",
    "    print('Wrong choice please try again!')"
   ]
  }
 ],
 "metadata": {
  "kernelspec": {
   "display_name": "Python 3",
   "language": "python",
   "name": "python3"
  },
  "language_info": {
   "codemirror_mode": {
    "name": "ipython",
    "version": 3
   },
   "file_extension": ".py",
   "mimetype": "text/x-python",
   "name": "python",
   "nbconvert_exporter": "python",
   "pygments_lexer": "ipython3",
   "version": "3.8.5"
  }
 },
 "nbformat": 4,
 "nbformat_minor": 4
}
