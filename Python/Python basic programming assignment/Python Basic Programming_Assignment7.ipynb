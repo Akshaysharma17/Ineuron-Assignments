{
 "cells": [
  {
   "cell_type": "markdown",
   "metadata": {},
   "source": [
    "#### Write a Python Program to find sum of array?"
   ]
  },
  {
   "cell_type": "code",
   "execution_count": 3,
   "metadata": {},
   "outputs": [
    {
     "name": "stdout",
     "output_type": "stream",
     "text": [
      "Please enter list of number seperated by space in between2 5 6 3\n",
      "Sum of the array is  16\n"
     ]
    }
   ],
   "source": [
    "def summ(arr): \n",
    "    sum=0\n",
    "    for i in arr:\n",
    "        sum = sum + i\n",
    "          \n",
    "    return(sum) \n",
    "  \n",
    "arr=[] \n",
    "arr = list(map(int,input(\"Please enter list of numbers seperated by space in between\").rstrip().split())) \n",
    "n = len(arr) \n",
    "ans = summ(arr) \n",
    "print ('Sum of the array is ', ans) "
   ]
  },
  {
   "cell_type": "markdown",
   "metadata": {},
   "source": [
    "#### Write a Python Program to find largest element in an array?"
   ]
  },
  {
   "cell_type": "code",
   "execution_count": 10,
   "metadata": {},
   "outputs": [
    {
     "name": "stdout",
     "output_type": "stream",
     "text": [
      "Please enter list of numbers seperated by space in between 23 6369 923 1\n",
      "Greatest number is  6369\n"
     ]
    }
   ],
   "source": [
    "def great(arr): \n",
    "    maxi=arr[0]\n",
    "    for i in arr:\n",
    "        if i>maxi:\n",
    "            maxi=i\n",
    "    return maxi  \n",
    "arr=[] \n",
    "arr = list(map(int,input(\"Please enter list of numbers seperated by space in between \").rstrip().split()))\n",
    "ans=great(arr)\n",
    "print(\"Greatest number is \",ans)"
   ]
  },
  {
   "cell_type": "markdown",
   "metadata": {},
   "source": [
    "#### Write a Python Program for array rotation?"
   ]
  },
  {
   "cell_type": "code",
   "execution_count": 12,
   "metadata": {},
   "outputs": [
    {
     "name": "stdout",
     "output_type": "stream",
     "text": [
      "Please enter list of numbers seperated by space in between 2 3 6 5 9 8 9 5 4 63\n",
      "Array after left rotation is:  [6, 5, 9, 8, 9, 5, 4, 63, 2, 3]\n"
     ]
    }
   ],
   "source": [
    "def rotateArray(a,d):\n",
    "    temp = []\n",
    "    n=len(a)\n",
    "    for i in range(d,n):\n",
    "        temp.append(a[i])\n",
    "    i = 0\n",
    "    for i in range (0,d):\n",
    "        temp.append(a[i])\n",
    "    a=temp.copy()\n",
    "    return a\n",
    " \n",
    "arr = list(map(int,input(\"Please enter list of numbers seperated by space in between \").rstrip().split()))\n",
    "print(\"Array after left rotation is: \", end=' ')\n",
    "print(rotateArray(arr, 2))"
   ]
  },
  {
   "cell_type": "markdown",
   "metadata": {},
   "source": [
    "#### Write a Python Program to Split the array and add the first part to the end?"
   ]
  },
  {
   "cell_type": "code",
   "execution_count": 11,
   "metadata": {},
   "outputs": [
    {
     "name": "stdout",
     "output_type": "stream",
     "text": [
      "Please enter list of numbers seperated by space in between 23 36 69 6545 212 363 36\n",
      "Enter postion of number by which you want to split: 2\n",
      "69 6545 212 363 36 23 36 "
     ]
    }
   ],
   "source": [
    "def splitArr(arr, n, k): \n",
    "    for i in range(0, k): \n",
    "        x = arr[0]\n",
    "        for j in range(0, n-1):\n",
    "            arr[j] = arr[j + 1]          \n",
    "        arr[n-1] = x\n",
    "\n",
    "arr = list(map(int,input(\"Please enter list of numbers seperated by space in between \").rstrip().split()))\n",
    "n = len(arr)\n",
    "position = int(input(\"Enter postion of number by which you want to split: \"))\n",
    "  \n",
    "splitArr(arr, n, position)\n",
    "  \n",
    "for i in range(0, n): \n",
    "    print(arr[i], end = ' ')"
   ]
  },
  {
   "cell_type": "markdown",
   "metadata": {},
   "source": [
    "#### Write a Python Program to check if given array is Monotonic?"
   ]
  },
  {
   "cell_type": "code",
   "execution_count": 16,
   "metadata": {},
   "outputs": [
    {
     "name": "stdout",
     "output_type": "stream",
     "text": [
      "Please enter list of numbers seperated by space in between 2 5 1 3 9\n",
      "False\n"
     ]
    }
   ],
   "source": [
    "def isMonotonic(A):\n",
    "  \n",
    "    return (all(A[i] <= A[i + 1] for i in range(len(A) - 1)) or\n",
    "            all(A[i] >= A[i + 1] for i in range(len(A) - 1)))\n",
    "  \n",
    "\n",
    "A = list(map(int,input(\"Please enter list of numbers seperated by space in between \").rstrip().split()))\n",
    "  \n",
    "# Print required result\n",
    "print(isMonotonic(A))"
   ]
  }
 ],
 "metadata": {
  "kernelspec": {
   "display_name": "Python 3",
   "language": "python",
   "name": "python3"
  },
  "language_info": {
   "codemirror_mode": {
    "name": "ipython",
    "version": 3
   },
   "file_extension": ".py",
   "mimetype": "text/x-python",
   "name": "python",
   "nbconvert_exporter": "python",
   "pygments_lexer": "ipython3",
   "version": "3.8.5"
  }
 },
 "nbformat": 4,
 "nbformat_minor": 4
}
